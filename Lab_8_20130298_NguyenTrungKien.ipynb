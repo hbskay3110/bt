{
  "cells": [
    {
      "cell_type": "markdown",
      "metadata": {
        "id": "view-in-github",
        "colab_type": "text"
      },
      "source": [
        "<a href=\"https://colab.research.google.com/github/hbskay3110/bt/blob/main/Lab_8_20130298_NguyenTrungKien.ipynb\" target=\"_parent\"><img src=\"https://colab.research.google.com/assets/colab-badge.svg\" alt=\"Open In Colab\"/></a>"
      ]
    },
    {
      "cell_type": "markdown",
      "metadata": {
        "id": "LMzehe0sy5wr"
      },
      "source": [
        "# This lab deals with **GridSearchCV** for tuning the hyper-parameters of an estimator and applying vectorization techniques to the **movie reviews dataset** for classification task. \n",
        "\n",
        "*   **Deadline: 23:59, 17/4/2023**\n",
        "\n"
      ]
    },
    {
      "cell_type": "markdown",
      "metadata": {
        "id": "H4nJmxp9zGX4"
      },
      "source": [
        "# Import libraries"
      ]
    },
    {
      "cell_type": "code",
      "execution_count": 11,
      "metadata": {
        "id": "DoVWQ8AEyc-C"
      },
      "outputs": [],
      "source": [
        "# code\n",
        "from sklearn import datasets\n",
        "from sklearn import svm\n",
        "from sklearn import metrics\n",
        "from sklearn.model_selection import train_test_split,GridSearchCV\n",
        "from prettytable import PrettyTable\n",
        "from sklearn.neighbors import KNeighborsClassifier\n",
        "from sklearn.linear_model import LogisticRegression\n",
        "import numpy as np\n",
        "import pandas as pd\n",
        "from sklearn.ensemble import RandomForestClassifier"
      ]
    },
    {
      "cell_type": "markdown",
      "metadata": {
        "id": "x_dG9SA5OhGT"
      },
      "source": [
        "#Task 1. With **iris** dataset\n",
        "*  1.1. Apply **GridSearchCV** for **SVM** to find the best hyperparameters using the following param_grid.\n",
        "\n",
        "```\n",
        "param_grid = {'C': [0.1, 1, 10, 100, 1000],\n",
        "              'gamma': [1, 0.1, 0.01, 0.001, 0.0001],\n",
        "              'kernel': ['rbf','linear']}\n",
        "```\n",
        "\n",
        "\n"
      ]
    },
    {
      "cell_type": "code",
      "execution_count": null,
      "metadata": {
        "id": "RItN3gRog9Fh"
      },
      "outputs": [],
      "source": [
        "data = datasets.load_iris();\n",
        "X = data.data\n",
        "y = data.target\n",
        "X_train,X_test,y_train,y_test = train_test_split(X,y,test_size=0.3,random_state=1)"
      ]
    },
    {
      "cell_type": "code",
      "execution_count": null,
      "metadata": {
        "id": "62jExOZ952fF"
      },
      "outputs": [],
      "source": [
        "#code\n",
        "param_grid = {'C': [0.1, 1, 10, 100, 1000],\n",
        "              'gamma': [1, 0.1, 0.01, 0.001, 0.0001],\n",
        "              'kernel': ['rbf','linear']}\n",
        "svm_class = svm.SVC()\n",
        "grid_svm_class = GridSearchCV(estimator= svm_class,\n",
        "                              param_grid = param_grid,\n",
        "                              scoring = 'accuracy',\n",
        "                              n_jobs = 5,\n",
        "                              cv =10,\n",
        "                              refit = True,\n",
        "                              return_train_score= True)\n"
      ]
    },
    {
      "cell_type": "code",
      "execution_count": null,
      "metadata": {
        "colab": {
          "base_uri": "https://localhost:8080/"
        },
        "id": "CGLcyy3wgcLZ",
        "outputId": "30fa720b-a7b6-4f7d-a971-e4c594faec50"
      },
      "outputs": [
        {
          "name": "stdout",
          "output_type": "stream",
          "text": [
            "{'C': 1, 'gamma': 1, 'kernel': 'linear'}\n",
            "1.0 1.0 1.0 1.0\n"
          ]
        }
      ],
      "source": [
        "grid_svm_class.fit(X_train,y_train);\n",
        "y_pred  = grid_svm_class.predict(X_test)\n",
        "smvAccs = metrics.accuracy_score(y_test, y_pred);\n",
        "smvPrecss = metrics.precision_score(y_test, y_pred,average='macro');\n",
        "smvRecalls = metrics.recall_score(y_test, y_pred,average='macro');\n",
        "smvF1s = metrics.f1_score(y_test, y_pred,average='macro');\n",
        "print(grid_svm_class.best_params_)\n",
        "print(smvAccs,smvPrecss,smvRecalls,smvF1s)\n",
        "SVM =['SVM', round(smvAccs, 2), round(smvPrecss, 2), round(smvRecalls, 2), round(smvF1s, 2)]"
      ]
    },
    {
      "cell_type": "markdown",
      "metadata": {
        "id": "2g--8cng53sY"
      },
      "source": [
        "*  1.2. Apply **GridSearchCV** for **kNN** to find the best hyperparameters using the following param_grid.\n",
        "\n",
        "```\n",
        "grid_params = { 'n_neighbors' : [5,7,9,11,13,15],\n",
        "               'weights' : ['uniform','distance'],\n",
        "               'metric' : ['minkowski','euclidean','manhattan']}\n",
        "```\n",
        "where\n",
        "\n",
        "    *  **n_neighbors**: Decide the best k based on the values we have computed earlier.\n",
        "    *  **weights**: Check whether adding weights to the data points is beneficial to the model or not. 'uniform' assigns no weight, while 'distance' weighs points by the inverse of their distances meaning nearer points will have more weight than the farther points.\n",
        "    *  **metric**: The distance metric to be used will calculating the similarity.\n"
      ]
    },
    {
      "cell_type": "code",
      "execution_count": null,
      "metadata": {
        "id": "i57W6S2IjAik"
      },
      "outputs": [],
      "source": [
        "grid_params = { 'n_neighbors' : [5,7,9,11,13,15],\n",
        "               'weights' : ['uniform','distance'],\n",
        "               'metric' : ['minkowski','euclidean','manhattan']}\n",
        "knn = KNeighborsClassifier();\n",
        "grid_knn_class = GridSearchCV(estimator= knn,\n",
        "                              param_grid = grid_params,\n",
        "                              scoring = 'accuracy',\n",
        "                              n_jobs = 5,\n",
        "                              cv =10,\n",
        "                              refit = True,\n",
        "                              return_train_score= True)\n",
        "\n"
      ]
    },
    {
      "cell_type": "code",
      "execution_count": null,
      "metadata": {
        "colab": {
          "base_uri": "https://localhost:8080/"
        },
        "id": "CPUngpeMj3Ck",
        "outputId": "f32c93ec-3625-4d57-e626-b6af70db82ec"
      },
      "outputs": [
        {
          "name": "stdout",
          "output_type": "stream",
          "text": [
            "{'metric': 'minkowski', 'n_neighbors': 9, 'weights': 'distance'}\n",
            "0.9555555555555556 0.9558404558404558 0.9558404558404558 0.9558404558404558\n"
          ]
        }
      ],
      "source": [
        "grid_knn_class.fit(X_train,y_train);\n",
        "y_pred  = grid_knn_class.predict(X_test)\n",
        "knnAccs = metrics.accuracy_score(y_test, y_pred);\n",
        "knnPrecss = metrics.precision_score(y_test, y_pred,average='macro');\n",
        "knnRecalls = metrics.recall_score(y_test, y_pred,average='macro');\n",
        "knnF1s = metrics.f1_score(y_test, y_pred,average='macro');\n",
        "print(grid_knn_class.best_params_)\n",
        "print(knnAccs,knnPrecss,knnRecalls,knnF1s)\n"
      ]
    },
    {
      "cell_type": "code",
      "execution_count": null,
      "metadata": {
        "id": "fX0_kItYPism"
      },
      "outputs": [],
      "source": [
        "#code\n",
        "KNN =['KNN', round(knnAccs, 2), round(knnPrecss, 2), round(knnRecalls, 2), round(knnF1s, 2)]"
      ]
    },
    {
      "cell_type": "markdown",
      "metadata": {
        "id": "3lQSOcjL_TIW"
      },
      "source": [
        "*  1.3. Apply **GridSearchCV** for **Random Forest** to find the best hyperparameters using the following param_grid.\n",
        "\n",
        "```\n",
        "param_grid = {\n",
        "    'n_estimators': [25, 50, 100, 150],\n",
        "    'max_features': ['sqrt', 'log2', None],\n",
        "    'max_depth': [3, 6, 9],\n",
        "    'max_leaf_nodes': [3, 6, 9],\n",
        "}\n",
        "```"
      ]
    },
    {
      "cell_type": "code",
      "execution_count": null,
      "metadata": {
        "id": "OlyF9WpN_01p"
      },
      "outputs": [],
      "source": [
        "#code\n",
        "param_grid = {\n",
        "    'n_estimators': [25, 50, 100, 150],\n",
        "    'max_features': ['sqrt', 'log2', None],\n",
        "    'max_depth': [3, 6, 9],\n",
        "    'max_leaf_nodes': [3, 6, 9],\n",
        "}\n",
        "rf = RandomForestClassifier();\n",
        "grid_rf_class = GridSearchCV(estimator= rf,\n",
        "                              param_grid = param_grid,\n",
        "                              scoring = 'accuracy',\n",
        "                              n_jobs = 5,\n",
        "                              cv =10,\n",
        "                              refit = True,\n",
        "                              return_train_score= True)\n"
      ]
    },
    {
      "cell_type": "code",
      "execution_count": null,
      "metadata": {
        "colab": {
          "base_uri": "https://localhost:8080/"
        },
        "id": "nrTyEXDWnbEW",
        "outputId": "fa5f1788-a1f4-47d3-fa11-f7f0b0b54808"
      },
      "outputs": [
        {
          "name": "stdout",
          "output_type": "stream",
          "text": [
            "{'max_depth': 3, 'max_features': 'sqrt', 'max_leaf_nodes': 3, 'n_estimators': 25}\n",
            "0.9555555555555556 0.9558404558404558 0.9558404558404558 0.9558404558404558\n"
          ]
        }
      ],
      "source": [
        "grid_rf_class.fit(X_train,y_train);\n",
        "y_pred  = grid_rf_class.predict(X_test)\n",
        "rfAccs = metrics.accuracy_score(y_test, y_pred);\n",
        "rfPrecss = metrics.precision_score(y_test, y_pred,average='macro');\n",
        "rfRecalls = metrics.recall_score(y_test, y_pred,average='macro');\n",
        "rfF1s = metrics.f1_score(y_test, y_pred,average='macro');\n",
        "print(grid_rf_class.best_params_)\n",
        "print(rfAccs,rfPrecss,rfRecalls,rfF1s)"
      ]
    },
    {
      "cell_type": "code",
      "execution_count": null,
      "metadata": {
        "id": "DW1lt1YDo30d"
      },
      "outputs": [],
      "source": [
        "RF =['RF', round(rfAccs, 2), round(rfAccs, 2), round(rfRecalls, 2), round(rfF1s, 2)]"
      ]
    },
    {
      "cell_type": "code",
      "execution_count": null,
      "metadata": {
        "colab": {
          "base_uri": "https://localhost:8080/"
        },
        "id": "N4UhmnaPpbjV",
        "outputId": "0b232fb0-a09a-47e4-98de-21ebe791211f"
      },
      "outputs": [
        {
          "name": "stdout",
          "output_type": "stream",
          "text": [
            "+----------------+----------+-----------+--------+------+\n",
            "| Classification | Accuracy | Precision | Recall |  F1  |\n",
            "+----------------+----------+-----------+--------+------+\n",
            "|       RF       |   0.96   |    0.96   |  0.96  | 0.96 |\n",
            "|      KNN       |   0.96   |    0.96   |  0.96  | 0.96 |\n",
            "|      SVM       |   1.0    |    1.0    |  1.0   | 1.0  |\n",
            "+----------------+----------+-----------+--------+------+\n"
          ]
        }
      ],
      "source": [
        "t = PrettyTable(['Classification', 'Accuracy', 'Precision', 'Recall', 'F1'])\n",
        "\n",
        "t.add_row(RF)\n",
        "t.add_row(KNN)\n",
        "t.add_row(SVM)\n",
        "print(t)"
      ]
    },
    {
      "cell_type": "markdown",
      "metadata": {
        "id": "G3N7TD7s_3Kp"
      },
      "source": [
        "*   1.4 Compare the best obtained results from 1.1 to 1.3 (use PrettyTable to dispaly the results)"
      ]
    },
    {
      "cell_type": "markdown",
      "metadata": {
        "id": "kNv07ARGzOUm"
      },
      "source": [
        "#Task 2. \n",
        "For breast cancer dataset (https://tinyurl.com/3vme8hr3) which could be loaded from datasets in sklearn as follows:\n",
        "\n",
        "```\n",
        "#Import scikit-learn dataset library\n",
        "from sklearn import datasets\n",
        "\n",
        "#Load dataset\n",
        "cancer = datasets.load_breast_cancer()\n",
        "```\n",
        "\n",
        "*   Apply **GridSearchCV** to different classification algorithms such as **SVM, kNN, LogisticRegression, RandomForest**.\n",
        "*   Compare the results obtained by the best hyperparameters among classification algorithms."
      ]
    },
    {
      "cell_type": "code",
      "execution_count": null,
      "metadata": {
        "id": "oPFKAxP2rJL2"
      },
      "outputs": [],
      "source": [
        "cancer = datasets.load_breast_cancer()\n",
        "X = cancer.data\n",
        "y = cancer.target\n",
        "X_train,X_test,y_train,y_test = train_test_split(X,y,test_size=0.1,train_size=0.3,random_state=1)\n",
        "\n"
      ]
    },
    {
      "cell_type": "markdown",
      "metadata": {
        "id": "pnoVB8J4vV36"
      },
      "source": [
        "*   2.1. Apply **GridSearchCV** to **SVM** \n"
      ]
    },
    {
      "cell_type": "code",
      "execution_count": null,
      "metadata": {
        "id": "-ZTSvsJdvYqI"
      },
      "outputs": [],
      "source": [
        "# code\n",
        "param_grid = {'C': [0.1, 1, 10, 100, 1000],\n",
        "              'gamma': [1, 0.1, 0.01, 0.001, 0.0001],\n",
        "              'kernel': ['rbf','linear']}\n",
        "svm_class = svm.SVC()\n",
        "grid_svm_class = GridSearchCV(estimator= svm_class,\n",
        "                              param_grid = param_grid,\n",
        "                              scoring = 'accuracy',\n",
        "                              n_jobs = 5,\n",
        "                              cv =10,\n",
        "                              refit = True,\n",
        "                              return_train_score= True)"
      ]
    },
    {
      "cell_type": "code",
      "execution_count": null,
      "metadata": {
        "colab": {
          "base_uri": "https://localhost:8080/"
        },
        "id": "ARHNRO4fr5cT",
        "outputId": "d655bd72-5a8e-49b2-c4f3-e3668f8867df"
      },
      "outputs": [
        {
          "name": "stdout",
          "output_type": "stream",
          "text": [
            "{'C': 100, 'gamma': 1, 'kernel': 'linear'}\n",
            "0.9649122807017544 0.9635549872122762 0.9635549872122762 0.9635549872122762\n"
          ]
        }
      ],
      "source": [
        "grid_svm_class.fit(X_train,y_train);\n",
        "y_pred  = grid_svm_class.predict(X_test)\n",
        "smvAccs = metrics.accuracy_score(y_test, y_pred);\n",
        "smvPrecss = metrics.precision_score(y_test, y_pred,average='macro');\n",
        "smvRecalls = metrics.recall_score(y_test, y_pred,average='macro');\n",
        "smvF1s = metrics.f1_score(y_test, y_pred,average='macro');\n",
        "print(grid_svm_class.best_params_)\n",
        "print(smvAccs,smvPrecss,smvRecalls,smvF1s)\n",
        "SVM =['SVM', round(smvAccs, 2), round(smvPrecss, 2), round(smvRecalls, 2), round(smvF1s, 2)]"
      ]
    },
    {
      "cell_type": "markdown",
      "metadata": {
        "id": "ol1U_T_NvcqV"
      },
      "source": [
        "*   2.2. Apply **GridSearchCV** to **kNN** "
      ]
    },
    {
      "cell_type": "code",
      "execution_count": null,
      "metadata": {
        "id": "kt71yrAoBwYE"
      },
      "outputs": [],
      "source": [
        "#code\n",
        "grid_params = { 'n_neighbors' : [5,7,9,11,13,15],\n",
        "               'weights' : ['uniform','distance'],\n",
        "               'metric' : ['minkowski','euclidean','manhattan']}\n",
        "knn = KNeighborsClassifier();\n",
        "grid_knn_class = GridSearchCV(estimator= knn,\n",
        "                              param_grid = grid_params,\n",
        "                              scoring = 'accuracy',\n",
        "                              n_jobs = 5,\n",
        "                              cv =10,\n",
        "                              refit = True,\n",
        "                              return_train_score= True)\n"
      ]
    },
    {
      "cell_type": "code",
      "execution_count": null,
      "metadata": {
        "colab": {
          "base_uri": "https://localhost:8080/"
        },
        "id": "EOMfx0dRsdAi",
        "outputId": "347ba8bd-12a1-412e-baf9-5135dc1d16aa"
      },
      "outputs": [
        {
          "name": "stdout",
          "output_type": "stream",
          "text": [
            "{'metric': 'manhattan', 'n_neighbors': 15, 'weights': 'uniform'}\n",
            "0.8771929824561403 0.9146341463414633 0.8478260869565217 0.8635897435897436\n"
          ]
        }
      ],
      "source": [
        "grid_knn_class.fit(X_train,y_train);\n",
        "y_pred  = grid_knn_class.predict(X_test)\n",
        "knnAccs = metrics.accuracy_score(y_test, y_pred);\n",
        "knnPrecss = metrics.precision_score(y_test, y_pred,average='macro');\n",
        "knnRecalls = metrics.recall_score(y_test, y_pred,average='macro');\n",
        "knnF1s = metrics.f1_score(y_test, y_pred,average='macro');\n",
        "print(grid_knn_class.best_params_)\n",
        "print(knnAccs,knnPrecss,knnRecalls,knnF1s)"
      ]
    },
    {
      "cell_type": "code",
      "execution_count": null,
      "metadata": {
        "id": "BlAvNuyK5f-3"
      },
      "outputs": [],
      "source": [
        "KNN =['KNN', round(knnAccs, 2), round(knnPrecss, 2), round(knnRecalls, 2), round(knnF1s, 2)]"
      ]
    },
    {
      "cell_type": "markdown",
      "metadata": {
        "id": "pPkAvse-BxNa"
      },
      "source": [
        "*   2.3. Apply **GridSearchCV** to **LogisticRegression** "
      ]
    },
    {
      "cell_type": "code",
      "execution_count": null,
      "metadata": {
        "id": "nyYjpHFbB1Ci"
      },
      "outputs": [],
      "source": [
        "#code\n",
        "grid_params = { 'penalty' :['l1', 'l2', 'elasticnet'],\n",
        "               'solver': ['lbfgs', 'liblinear', 'newton-cg', 'newton-cholesky', 'sag', 'saga'],\n",
        "               'multi_class': ['auto', 'ovr', 'multinomial']}\n",
        "lr = LogisticRegression();\n",
        "grid_lr_class = GridSearchCV(estimator= lr,\n",
        "                              param_grid = grid_params,\n",
        "                              scoring = 'accuracy',\n",
        "                              n_jobs = 5,\n",
        "                              cv =10,\n",
        "                              refit = True,\n",
        "                              return_train_score= True)\n",
        "\n",
        "\n"
      ]
    },
    {
      "cell_type": "code",
      "execution_count": null,
      "metadata": {
        "colab": {
          "base_uri": "https://localhost:8080/"
        },
        "id": "qAQN_oBQ25CJ",
        "outputId": "726bc8f2-bb63-4ea0-cbbf-ee8ab341aa7b"
      },
      "outputs": [
        {
          "name": "stdout",
          "output_type": "stream",
          "text": [
            "{'multi_class': 'auto', 'penalty': 'l2', 'solver': 'liblinear'}\n",
            "0.9824561403508771 0.9857142857142858 0.9782608695652174 0.9816425120772947\n"
          ]
        },
        {
          "name": "stderr",
          "output_type": "stream",
          "text": [
            "/usr/local/lib/python3.9/dist-packages/sklearn/model_selection/_validation.py:378: FitFailedWarning: \n",
            "330 fits failed out of a total of 540.\n",
            "The score on these train-test partitions for these parameters will be set to nan.\n",
            "If these failures are not expected, you can try to debug them by setting error_score='raise'.\n",
            "\n",
            "Below are more details about the failures:\n",
            "--------------------------------------------------------------------------------\n",
            "30 fits failed with the following error:\n",
            "Traceback (most recent call last):\n",
            "  File \"/usr/local/lib/python3.9/dist-packages/sklearn/model_selection/_validation.py\", line 686, in _fit_and_score\n",
            "    estimator.fit(X_train, y_train, **fit_params)\n",
            "  File \"/usr/local/lib/python3.9/dist-packages/sklearn/linear_model/_logistic.py\", line 1162, in fit\n",
            "    solver = _check_solver(self.solver, self.penalty, self.dual)\n",
            "  File \"/usr/local/lib/python3.9/dist-packages/sklearn/linear_model/_logistic.py\", line 54, in _check_solver\n",
            "    raise ValueError(\n",
            "ValueError: Solver lbfgs supports only 'l2' or 'none' penalties, got l1 penalty.\n",
            "\n",
            "--------------------------------------------------------------------------------\n",
            "30 fits failed with the following error:\n",
            "Traceback (most recent call last):\n",
            "  File \"/usr/local/lib/python3.9/dist-packages/sklearn/model_selection/_validation.py\", line 686, in _fit_and_score\n",
            "    estimator.fit(X_train, y_train, **fit_params)\n",
            "  File \"/usr/local/lib/python3.9/dist-packages/sklearn/linear_model/_logistic.py\", line 1162, in fit\n",
            "    solver = _check_solver(self.solver, self.penalty, self.dual)\n",
            "  File \"/usr/local/lib/python3.9/dist-packages/sklearn/linear_model/_logistic.py\", line 54, in _check_solver\n",
            "    raise ValueError(\n",
            "ValueError: Solver newton-cg supports only 'l2' or 'none' penalties, got l1 penalty.\n",
            "\n",
            "--------------------------------------------------------------------------------\n",
            "30 fits failed with the following error:\n",
            "Traceback (most recent call last):\n",
            "  File \"/usr/local/lib/python3.9/dist-packages/sklearn/model_selection/_validation.py\", line 686, in _fit_and_score\n",
            "    estimator.fit(X_train, y_train, **fit_params)\n",
            "  File \"/usr/local/lib/python3.9/dist-packages/sklearn/linear_model/_logistic.py\", line 1162, in fit\n",
            "    solver = _check_solver(self.solver, self.penalty, self.dual)\n",
            "  File \"/usr/local/lib/python3.9/dist-packages/sklearn/linear_model/_logistic.py\", line 54, in _check_solver\n",
            "    raise ValueError(\n",
            "ValueError: Solver newton-cholesky supports only 'l2' or 'none' penalties, got l1 penalty.\n",
            "\n",
            "--------------------------------------------------------------------------------\n",
            "30 fits failed with the following error:\n",
            "Traceback (most recent call last):\n",
            "  File \"/usr/local/lib/python3.9/dist-packages/sklearn/model_selection/_validation.py\", line 686, in _fit_and_score\n",
            "    estimator.fit(X_train, y_train, **fit_params)\n",
            "  File \"/usr/local/lib/python3.9/dist-packages/sklearn/linear_model/_logistic.py\", line 1162, in fit\n",
            "    solver = _check_solver(self.solver, self.penalty, self.dual)\n",
            "  File \"/usr/local/lib/python3.9/dist-packages/sklearn/linear_model/_logistic.py\", line 54, in _check_solver\n",
            "    raise ValueError(\n",
            "ValueError: Solver sag supports only 'l2' or 'none' penalties, got l1 penalty.\n",
            "\n",
            "--------------------------------------------------------------------------------\n",
            "30 fits failed with the following error:\n",
            "Traceback (most recent call last):\n",
            "  File \"/usr/local/lib/python3.9/dist-packages/sklearn/model_selection/_validation.py\", line 686, in _fit_and_score\n",
            "    estimator.fit(X_train, y_train, **fit_params)\n",
            "  File \"/usr/local/lib/python3.9/dist-packages/sklearn/linear_model/_logistic.py\", line 1162, in fit\n",
            "    solver = _check_solver(self.solver, self.penalty, self.dual)\n",
            "  File \"/usr/local/lib/python3.9/dist-packages/sklearn/linear_model/_logistic.py\", line 54, in _check_solver\n",
            "    raise ValueError(\n",
            "ValueError: Solver lbfgs supports only 'l2' or 'none' penalties, got elasticnet penalty.\n",
            "\n",
            "--------------------------------------------------------------------------------\n",
            "30 fits failed with the following error:\n",
            "Traceback (most recent call last):\n",
            "  File \"/usr/local/lib/python3.9/dist-packages/sklearn/model_selection/_validation.py\", line 686, in _fit_and_score\n",
            "    estimator.fit(X_train, y_train, **fit_params)\n",
            "  File \"/usr/local/lib/python3.9/dist-packages/sklearn/linear_model/_logistic.py\", line 1162, in fit\n",
            "    solver = _check_solver(self.solver, self.penalty, self.dual)\n",
            "  File \"/usr/local/lib/python3.9/dist-packages/sklearn/linear_model/_logistic.py\", line 64, in _check_solver\n",
            "    raise ValueError(\n",
            "ValueError: Only 'saga' solver supports elasticnet penalty, got solver=liblinear.\n",
            "\n",
            "--------------------------------------------------------------------------------\n",
            "30 fits failed with the following error:\n",
            "Traceback (most recent call last):\n",
            "  File \"/usr/local/lib/python3.9/dist-packages/sklearn/model_selection/_validation.py\", line 686, in _fit_and_score\n",
            "    estimator.fit(X_train, y_train, **fit_params)\n",
            "  File \"/usr/local/lib/python3.9/dist-packages/sklearn/linear_model/_logistic.py\", line 1162, in fit\n",
            "    solver = _check_solver(self.solver, self.penalty, self.dual)\n",
            "  File \"/usr/local/lib/python3.9/dist-packages/sklearn/linear_model/_logistic.py\", line 54, in _check_solver\n",
            "    raise ValueError(\n",
            "ValueError: Solver newton-cg supports only 'l2' or 'none' penalties, got elasticnet penalty.\n",
            "\n",
            "--------------------------------------------------------------------------------\n",
            "30 fits failed with the following error:\n",
            "Traceback (most recent call last):\n",
            "  File \"/usr/local/lib/python3.9/dist-packages/sklearn/model_selection/_validation.py\", line 686, in _fit_and_score\n",
            "    estimator.fit(X_train, y_train, **fit_params)\n",
            "  File \"/usr/local/lib/python3.9/dist-packages/sklearn/linear_model/_logistic.py\", line 1162, in fit\n",
            "    solver = _check_solver(self.solver, self.penalty, self.dual)\n",
            "  File \"/usr/local/lib/python3.9/dist-packages/sklearn/linear_model/_logistic.py\", line 54, in _check_solver\n",
            "    raise ValueError(\n",
            "ValueError: Solver newton-cholesky supports only 'l2' or 'none' penalties, got elasticnet penalty.\n",
            "\n",
            "--------------------------------------------------------------------------------\n",
            "30 fits failed with the following error:\n",
            "Traceback (most recent call last):\n",
            "  File \"/usr/local/lib/python3.9/dist-packages/sklearn/model_selection/_validation.py\", line 686, in _fit_and_score\n",
            "    estimator.fit(X_train, y_train, **fit_params)\n",
            "  File \"/usr/local/lib/python3.9/dist-packages/sklearn/linear_model/_logistic.py\", line 1162, in fit\n",
            "    solver = _check_solver(self.solver, self.penalty, self.dual)\n",
            "  File \"/usr/local/lib/python3.9/dist-packages/sklearn/linear_model/_logistic.py\", line 54, in _check_solver\n",
            "    raise ValueError(\n",
            "ValueError: Solver sag supports only 'l2' or 'none' penalties, got elasticnet penalty.\n",
            "\n",
            "--------------------------------------------------------------------------------\n",
            "30 fits failed with the following error:\n",
            "Traceback (most recent call last):\n",
            "  File \"/usr/local/lib/python3.9/dist-packages/sklearn/model_selection/_validation.py\", line 686, in _fit_and_score\n",
            "    estimator.fit(X_train, y_train, **fit_params)\n",
            "  File \"/usr/local/lib/python3.9/dist-packages/sklearn/linear_model/_logistic.py\", line 1291, in fit\n",
            "    fold_coefs_ = Parallel(n_jobs=self.n_jobs, verbose=self.verbose, prefer=prefer)(\n",
            "  File \"/usr/local/lib/python3.9/dist-packages/sklearn/utils/parallel.py\", line 63, in __call__\n",
            "    return super().__call__(iterable_with_config)\n",
            "  File \"/usr/local/lib/python3.9/dist-packages/joblib/parallel.py\", line 1048, in __call__\n",
            "    if self.dispatch_one_batch(iterator):\n",
            "  File \"/usr/local/lib/python3.9/dist-packages/joblib/parallel.py\", line 864, in dispatch_one_batch\n",
            "    self._dispatch(tasks)\n",
            "  File \"/usr/local/lib/python3.9/dist-packages/joblib/parallel.py\", line 782, in _dispatch\n",
            "    job = self._backend.apply_async(batch, callback=cb)\n",
            "  File \"/usr/local/lib/python3.9/dist-packages/joblib/_parallel_backends.py\", line 208, in apply_async\n",
            "    result = ImmediateResult(func)\n",
            "  File \"/usr/local/lib/python3.9/dist-packages/joblib/_parallel_backends.py\", line 572, in __init__\n",
            "    self.results = batch()\n",
            "  File \"/usr/local/lib/python3.9/dist-packages/joblib/parallel.py\", line 263, in __call__\n",
            "    return [func(*args, **kwargs)\n",
            "  File \"/usr/local/lib/python3.9/dist-packages/joblib/parallel.py\", line 263, in <listcomp>\n",
            "    return [func(*args, **kwargs)\n",
            "  File \"/usr/local/lib/python3.9/dist-packages/sklearn/utils/parallel.py\", line 123, in __call__\n",
            "    return self.function(*args, **kwargs)\n",
            "  File \"/usr/local/lib/python3.9/dist-packages/sklearn/linear_model/_logistic.py\", line 521, in _logistic_regression_path\n",
            "    alpha = (1.0 / C) * (1 - l1_ratio)\n",
            "TypeError: unsupported operand type(s) for -: 'int' and 'NoneType'\n",
            "\n",
            "--------------------------------------------------------------------------------\n",
            "20 fits failed with the following error:\n",
            "Traceback (most recent call last):\n",
            "  File \"/usr/local/lib/python3.9/dist-packages/sklearn/model_selection/_validation.py\", line 686, in _fit_and_score\n",
            "    estimator.fit(X_train, y_train, **fit_params)\n",
            "  File \"/usr/local/lib/python3.9/dist-packages/sklearn/linear_model/_logistic.py\", line 1207, in fit\n",
            "    multi_class = _check_multi_class(self.multi_class, solver, len(self.classes_))\n",
            "  File \"/usr/local/lib/python3.9/dist-packages/sklearn/linear_model/_logistic.py\", line 90, in _check_multi_class\n",
            "    raise ValueError(\"Solver %s does not support a multinomial backend.\" % solver)\n",
            "ValueError: Solver liblinear does not support a multinomial backend.\n",
            "\n",
            "--------------------------------------------------------------------------------\n",
            "10 fits failed with the following error:\n",
            "Traceback (most recent call last):\n",
            "  File \"/usr/local/lib/python3.9/dist-packages/sklearn/model_selection/_validation.py\", line 686, in _fit_and_score\n",
            "    estimator.fit(X_train, y_train, **fit_params)\n",
            "  File \"/usr/local/lib/python3.9/dist-packages/sklearn/linear_model/_logistic.py\", line 1207, in fit\n",
            "    multi_class = _check_multi_class(self.multi_class, solver, len(self.classes_))\n",
            "  File \"/usr/local/lib/python3.9/dist-packages/sklearn/linear_model/_logistic.py\", line 90, in _check_multi_class\n",
            "    raise ValueError(\"Solver %s does not support a multinomial backend.\" % solver)\n",
            "ValueError: Solver newton-cholesky does not support a multinomial backend.\n",
            "\n",
            "  warnings.warn(some_fits_failed_message, FitFailedWarning)\n",
            "/usr/local/lib/python3.9/dist-packages/sklearn/model_selection/_search.py:952: UserWarning: One or more of the test scores are non-finite: [       nan 0.91764706        nan        nan        nan 0.9\n",
            " 0.91176471 0.92941176 0.91176471 0.91176471 0.90588235 0.9\n",
            "        nan        nan        nan        nan        nan        nan\n",
            "        nan 0.91176471        nan        nan        nan 0.9\n",
            " 0.91176471 0.92941176 0.91176471 0.91176471 0.90588235 0.9\n",
            "        nan        nan        nan        nan        nan        nan\n",
            "        nan        nan        nan        nan        nan 0.90588235\n",
            " 0.92352941        nan 0.92352941        nan 0.91176471 0.90588235\n",
            "        nan        nan        nan        nan        nan        nan]\n",
            "  warnings.warn(\n",
            "/usr/local/lib/python3.9/dist-packages/sklearn/model_selection/_search.py:952: UserWarning: One or more of the train scores are non-finite: [       nan 0.9496732         nan        nan        nan 0.90326797\n",
            " 0.94117647 0.94901961 0.95098039 0.95098039 0.90915033 0.90392157\n",
            "        nan        nan        nan        nan        nan        nan\n",
            "        nan 0.95163399        nan        nan        nan 0.90326797\n",
            " 0.94117647 0.94901961 0.95098039 0.95098039 0.90915033 0.90326797\n",
            "        nan        nan        nan        nan        nan        nan\n",
            "        nan        nan        nan        nan        nan 0.90915033\n",
            " 0.94313725        nan 0.96013072        nan 0.90653595 0.90915033\n",
            "        nan        nan        nan        nan        nan        nan]\n",
            "  warnings.warn(\n"
          ]
        }
      ],
      "source": [
        "grid_lr_class.fit(X_train,y_train);\n",
        "y_pred  = grid_lr_class.predict(X_test)\n",
        "lrAccs = metrics.accuracy_score(y_test, y_pred);\n",
        "lrPrecss = metrics.precision_score(y_test, y_pred,average='macro');\n",
        "lrRecalls = metrics.recall_score(y_test, y_pred,average='macro');\n",
        "lrF1s = metrics.f1_score(y_test, y_pred,average='macro');\n",
        "print(grid_lr_class.best_params_)\n",
        "print(lrAccs,lrPrecss,lrRecalls,lrF1s)\n",
        "lr = ['LR', round(lrAccs, 2), round(lrPrecss, 2), round(lrRecalls, 2), round(lrF1s, 2)]\n"
      ]
    },
    {
      "cell_type": "markdown",
      "metadata": {
        "id": "3NjSLo5jB1xY"
      },
      "source": [
        "*   2.4. Apply **GridSearchCV** to **RandomForest** "
      ]
    },
    {
      "cell_type": "code",
      "execution_count": null,
      "metadata": {
        "id": "nktGtM0PB7XB"
      },
      "outputs": [],
      "source": [
        "#code\n",
        "param_grid = {\n",
        "    'n_estimators': [25, 50, 100, 150],\n",
        "    'max_features': ['sqrt', 'log2', None],\n",
        "    'max_depth': [3, 6, 9],\n",
        "    'max_leaf_nodes': [3, 6, 9],\n",
        "}\n",
        "rf = RandomForestClassifier();\n",
        "grid_rf_class = GridSearchCV(estimator= rf,\n",
        "                              param_grid = param_grid,\n",
        "                              scoring = 'accuracy',\n",
        "                              n_jobs = 5,\n",
        "                              cv =10,\n",
        "                              refit = True,\n",
        "                              return_train_score= True)\n"
      ]
    },
    {
      "cell_type": "code",
      "execution_count": null,
      "metadata": {
        "colab": {
          "base_uri": "https://localhost:8080/"
        },
        "id": "nNxql8ois__i",
        "outputId": "df1f512d-6cdc-4717-ac64-15976b2f6018"
      },
      "outputs": [
        {
          "name": "stdout",
          "output_type": "stream",
          "text": [
            "{'max_depth': 6, 'max_features': None, 'max_leaf_nodes': 9, 'n_estimators': 25}\n",
            "0.9298245614035088 0.924375 0.9341432225063939 0.928030303030303\n"
          ]
        }
      ],
      "source": [
        "grid_rf_class.fit(X_train,y_train);\n",
        "y_pred  = grid_rf_class.predict(X_test)\n",
        "rfAccs = metrics.accuracy_score(y_test, y_pred);\n",
        "rfPrecss = metrics.precision_score(y_test, y_pred,average='macro');\n",
        "rfRecalls = metrics.recall_score(y_test, y_pred,average='macro');\n",
        "rfF1s = metrics.f1_score(y_test, y_pred,average='macro');\n",
        "print(grid_rf_class.best_params_)\n",
        "print(rfAccs,rfPrecss,rfRecalls,rfF1s)\n",
        "RF =['RF', round(rfAccs, 2), round(rfAccs, 2), round(rfRecalls, 2), round(rfF1s, 2)]"
      ]
    },
    {
      "cell_type": "markdown",
      "metadata": {
        "id": "NZJ3BSHpB9Dx"
      },
      "source": [
        "*   2.5. Compare the best obtained results among classification algorithms (use PrettyTable to dispaly the results) "
      ]
    },
    {
      "cell_type": "code",
      "execution_count": null,
      "metadata": {
        "colab": {
          "base_uri": "https://localhost:8080/"
        },
        "id": "8LS_IYfNCFEj",
        "outputId": "60689774-4b18-4757-b3de-6483f2e926bd"
      },
      "outputs": [
        {
          "name": "stdout",
          "output_type": "stream",
          "text": [
            "+----------------+----------+-----------+--------+------+\n",
            "| Classification | Accuracy | Precision | Recall |  F1  |\n",
            "+----------------+----------+-----------+--------+------+\n",
            "|       RF       |   0.93   |    0.93   |  0.93  | 0.93 |\n",
            "|      KNN       |   0.88   |    0.91   |  0.85  | 0.86 |\n",
            "|       LR       |   0.98   |    0.99   |  0.98  | 0.98 |\n",
            "|      SVM       |   0.96   |    0.96   |  0.96  | 0.96 |\n",
            "+----------------+----------+-----------+--------+------+\n"
          ]
        }
      ],
      "source": [
        "#code\n",
        "t = PrettyTable(['Classification', 'Accuracy', 'Precision', 'Recall', 'F1'])\n",
        "t.add_row(RF)\n",
        "t.add_row(KNN)\n",
        "t.add_row(lr)\n",
        "t.add_row(SVM)\n",
        "print(t)"
      ]
    },
    {
      "cell_type": "markdown",
      "metadata": {
        "id": "b52OPWPD2afi"
      },
      "source": [
        "#Task 3. \n",
        "The dataset consists of **2000 user-created movie reviews** archived on the IMDb(Internet Movie Database). The reviews are equally partitioned into a positive set and a negative set (1000+1000). Each review consists of a plain text file (.txt) and a class label representing the overall user opinion. \n",
        "The class attribute has only two values: **pos** (positive) or **neg** (negative).\n"
      ]
    },
    {
      "cell_type": "markdown",
      "metadata": {
        "id": "lDcxOQRmDz_h"
      },
      "source": [
        "*   3.1 Importing additional libraries"
      ]
    },
    {
      "cell_type": "code",
      "execution_count": 1,
      "metadata": {
        "colab": {
          "base_uri": "https://localhost:8080/"
        },
        "id": "ZjyW06skDwvL",
        "outputId": "19ea8d76-1ab1-4f17-cbf0-1c212d50ffd8"
      },
      "outputs": [
        {
          "output_type": "stream",
          "name": "stderr",
          "text": [
            "[nltk_data] Downloading package movie_reviews to /root/nltk_data...\n",
            "[nltk_data]   Unzipping corpora/movie_reviews.zip.\n"
          ]
        }
      ],
      "source": [
        "import nltk, random\n",
        "nltk.download('movie_reviews')#download movie reviews dataset\n",
        "from nltk.corpus import movie_reviews\n",
        "import pandas as pd\n",
        "import matplotlib.pyplot as plt\n",
        "import numpy as np\n",
        "from sklearn.model_selection import cross_val_score\n",
        "from collections import Counter\n",
        "from sklearn.model_selection import train_test_split"
      ]
    },
    {
      "cell_type": "markdown",
      "metadata": {
        "id": "RJpsTIiyv-1h"
      },
      "source": [
        "*   3.2. Movie reviews information"
      ]
    },
    {
      "cell_type": "code",
      "execution_count": 2,
      "metadata": {
        "colab": {
          "base_uri": "https://localhost:8080/"
        },
        "id": "5ZE7A0Au1Pg0",
        "outputId": "7ea642f9-5bb6-4b58-f2b8-d4731cb5dc8c"
      },
      "outputs": [
        {
          "output_type": "stream",
          "name": "stdout",
          "text": [
            "2000\n",
            "['neg', 'pos']\n",
            "['plot', ':', 'two', 'teen', 'couples', 'go', 'to', ...]\n",
            "['neg/cv000_29416.txt', 'neg/cv001_19502.txt', 'neg/cv002_17424.txt', 'neg/cv003_12683.txt', 'neg/cv004_12641.txt', 'neg/cv005_29357.txt', 'neg/cv006_17022.txt', 'neg/cv007_4992.txt', 'neg/cv008_29326.txt', 'neg/cv009_29417.txt']\n"
          ]
        }
      ],
      "source": [
        "#code\n",
        "print(len(movie_reviews.fileids()))\n",
        "print(movie_reviews.categories())\n",
        "print(movie_reviews.words()[:100])\n",
        "print(movie_reviews.fileids()[:10])"
      ]
    },
    {
      "cell_type": "markdown",
      "metadata": {
        "id": "6pHmMpqMHS23"
      },
      "source": [
        "*   3.3. Create dataset from movie reviews"
      ]
    },
    {
      "cell_type": "code",
      "execution_count": 3,
      "metadata": {
        "id": "45aY6woMHSH5"
      },
      "outputs": [],
      "source": [
        "documents = [(list(movie_reviews.words(fileid)), category)\n",
        "             for category in movie_reviews.categories()\n",
        "             for fileid in movie_reviews.fileids(category)]\n",
        "random.seed(123)\n",
        "random.shuffle(documents)"
      ]
    },
    {
      "cell_type": "code",
      "execution_count": 4,
      "metadata": {
        "colab": {
          "base_uri": "https://localhost:8080/"
        },
        "id": "NNke0Da5HqFa",
        "outputId": "f3f2c5ed-b839-447f-90f3-792ca612c5ca"
      },
      "outputs": [
        {
          "output_type": "stream",
          "name": "stdout",
          "text": [
            "Number of Reviews/Documents: 2000\n",
            "Corpus Size (words): 1583820\n",
            "Sample Text of Doc 1:\n",
            "------------------------------\n",
            "most movies seem to release a third movie just so it can be called a trilogy . rocky iii seems to kind of fit in that category , but manages to be slightly unique . the rocky formula of \" rocky loses fight / rocky trains / rocky wins fight\n"
          ]
        }
      ],
      "source": [
        "print('Number of Reviews/Documents: {}'.format(len(documents)))\n",
        "print('Corpus Size (words): {}'.format(np.sum([len(d) for (d,l) in documents])))\n",
        "print('Sample Text of Doc 1:')\n",
        "print('-'*30)\n",
        "print(' '.join(documents[0][0][:50])) # first 50 words of the first document"
      ]
    },
    {
      "cell_type": "code",
      "execution_count": 5,
      "metadata": {
        "colab": {
          "base_uri": "https://localhost:8080/"
        },
        "id": "vVFUEhnXHsGd",
        "outputId": "f0b42e7e-d034-44cd-987e-bf03f7a8124d"
      },
      "outputs": [
        {
          "output_type": "stream",
          "name": "stdout",
          "text": [
            "Counter({'pos': 1000, 'neg': 1000})\n"
          ]
        }
      ],
      "source": [
        "sentiment_distr = Counter([label for (words, label) in documents])\n",
        "print(sentiment_distr)"
      ]
    },
    {
      "cell_type": "markdown",
      "metadata": {
        "id": "jTXiEbMzHgVC"
      },
      "source": [
        "*   3.4. Train test split"
      ]
    },
    {
      "cell_type": "code",
      "execution_count": 6,
      "metadata": {
        "id": "v_-0gZZFHvJN"
      },
      "outputs": [],
      "source": [
        "train, test = train_test_split(documents, test_size = 0.33, random_state=42)"
      ]
    },
    {
      "cell_type": "code",
      "execution_count": 7,
      "metadata": {
        "colab": {
          "base_uri": "https://localhost:8080/"
        },
        "id": "UUGlm5TGHvpV",
        "outputId": "02bf99e4-4258-4dcf-993e-99a0ee986d93"
      },
      "outputs": [
        {
          "output_type": "stream",
          "name": "stdout",
          "text": [
            "Counter({'neg': 674, 'pos': 666})\n",
            "Counter({'pos': 334, 'neg': 326})\n"
          ]
        }
      ],
      "source": [
        "## Sentiment Distrubtion for Train and Test\n",
        "print(Counter([label for (words, label) in train]))\n",
        "print(Counter([label for (words, label) in test]))"
      ]
    },
    {
      "cell_type": "code",
      "execution_count": 8,
      "metadata": {
        "colab": {
          "base_uri": "https://localhost:8080/"
        },
        "id": "l1ppl_0RHx1P",
        "outputId": "39f1c3c8-7a0d-4cf7-b965-cdd5aa408790"
      },
      "outputs": [
        {
          "output_type": "execute_result",
          "data": {
            "text/plain": [
              "['pos',\n",
              " 'neg',\n",
              " 'neg',\n",
              " 'neg',\n",
              " 'neg',\n",
              " 'neg',\n",
              " 'neg',\n",
              " 'neg',\n",
              " 'neg',\n",
              " 'neg',\n",
              " 'neg',\n",
              " 'neg',\n",
              " 'pos',\n",
              " 'neg',\n",
              " 'neg',\n",
              " 'neg',\n",
              " 'neg',\n",
              " 'pos',\n",
              " 'pos',\n",
              " 'pos',\n",
              " 'pos',\n",
              " 'neg',\n",
              " 'neg',\n",
              " 'neg',\n",
              " 'pos',\n",
              " 'neg',\n",
              " 'neg',\n",
              " 'pos',\n",
              " 'pos',\n",
              " 'pos',\n",
              " 'pos',\n",
              " 'neg',\n",
              " 'pos',\n",
              " 'neg',\n",
              " 'pos',\n",
              " 'pos',\n",
              " 'neg',\n",
              " 'pos',\n",
              " 'neg',\n",
              " 'neg',\n",
              " 'neg',\n",
              " 'neg',\n",
              " 'neg',\n",
              " 'neg',\n",
              " 'pos',\n",
              " 'neg',\n",
              " 'pos',\n",
              " 'neg',\n",
              " 'pos',\n",
              " 'pos',\n",
              " 'pos',\n",
              " 'pos',\n",
              " 'pos',\n",
              " 'pos',\n",
              " 'neg',\n",
              " 'neg',\n",
              " 'pos',\n",
              " 'pos',\n",
              " 'neg',\n",
              " 'pos',\n",
              " 'neg',\n",
              " 'neg',\n",
              " 'pos',\n",
              " 'neg',\n",
              " 'pos',\n",
              " 'neg',\n",
              " 'pos',\n",
              " 'pos',\n",
              " 'pos',\n",
              " 'neg',\n",
              " 'pos',\n",
              " 'pos',\n",
              " 'pos',\n",
              " 'neg',\n",
              " 'pos',\n",
              " 'neg',\n",
              " 'neg',\n",
              " 'neg',\n",
              " 'neg',\n",
              " 'pos',\n",
              " 'neg',\n",
              " 'pos',\n",
              " 'neg',\n",
              " 'pos',\n",
              " 'pos',\n",
              " 'neg',\n",
              " 'pos',\n",
              " 'neg',\n",
              " 'pos',\n",
              " 'pos',\n",
              " 'pos',\n",
              " 'pos',\n",
              " 'pos',\n",
              " 'pos',\n",
              " 'pos',\n",
              " 'neg',\n",
              " 'neg',\n",
              " 'neg',\n",
              " 'neg',\n",
              " 'pos',\n",
              " 'neg',\n",
              " 'neg',\n",
              " 'pos',\n",
              " 'pos',\n",
              " 'pos',\n",
              " 'neg',\n",
              " 'neg',\n",
              " 'pos',\n",
              " 'neg',\n",
              " 'neg',\n",
              " 'neg',\n",
              " 'neg',\n",
              " 'neg',\n",
              " 'pos',\n",
              " 'pos',\n",
              " 'pos',\n",
              " 'neg',\n",
              " 'neg',\n",
              " 'pos',\n",
              " 'neg',\n",
              " 'pos',\n",
              " 'neg',\n",
              " 'pos',\n",
              " 'neg',\n",
              " 'neg',\n",
              " 'neg',\n",
              " 'neg',\n",
              " 'neg',\n",
              " 'neg',\n",
              " 'pos',\n",
              " 'neg',\n",
              " 'pos',\n",
              " 'pos',\n",
              " 'neg',\n",
              " 'pos',\n",
              " 'pos',\n",
              " 'pos',\n",
              " 'pos',\n",
              " 'pos',\n",
              " 'pos',\n",
              " 'pos',\n",
              " 'neg',\n",
              " 'neg',\n",
              " 'neg',\n",
              " 'pos',\n",
              " 'neg',\n",
              " 'neg',\n",
              " 'neg',\n",
              " 'pos',\n",
              " 'pos',\n",
              " 'neg',\n",
              " 'pos',\n",
              " 'neg',\n",
              " 'pos',\n",
              " 'pos',\n",
              " 'neg',\n",
              " 'pos',\n",
              " 'pos',\n",
              " 'neg',\n",
              " 'neg',\n",
              " 'pos',\n",
              " 'neg',\n",
              " 'pos',\n",
              " 'pos',\n",
              " 'pos',\n",
              " 'pos',\n",
              " 'neg',\n",
              " 'neg',\n",
              " 'pos',\n",
              " 'neg',\n",
              " 'pos',\n",
              " 'pos',\n",
              " 'neg',\n",
              " 'pos',\n",
              " 'pos',\n",
              " 'neg',\n",
              " 'neg',\n",
              " 'pos',\n",
              " 'pos',\n",
              " 'neg',\n",
              " 'neg',\n",
              " 'neg',\n",
              " 'pos',\n",
              " 'pos',\n",
              " 'neg',\n",
              " 'pos',\n",
              " 'pos',\n",
              " 'neg',\n",
              " 'pos',\n",
              " 'pos',\n",
              " 'pos',\n",
              " 'pos',\n",
              " 'neg',\n",
              " 'neg',\n",
              " 'neg',\n",
              " 'pos',\n",
              " 'pos',\n",
              " 'neg',\n",
              " 'neg',\n",
              " 'pos',\n",
              " 'neg',\n",
              " 'pos',\n",
              " 'pos',\n",
              " 'pos',\n",
              " 'pos',\n",
              " 'neg',\n",
              " 'pos',\n",
              " 'neg',\n",
              " 'pos',\n",
              " 'pos',\n",
              " 'pos',\n",
              " 'neg',\n",
              " 'pos',\n",
              " 'pos',\n",
              " 'neg',\n",
              " 'neg',\n",
              " 'pos',\n",
              " 'neg',\n",
              " 'neg',\n",
              " 'neg',\n",
              " 'neg',\n",
              " 'neg',\n",
              " 'neg',\n",
              " 'neg',\n",
              " 'neg',\n",
              " 'pos',\n",
              " 'pos',\n",
              " 'pos',\n",
              " 'neg',\n",
              " 'neg',\n",
              " 'pos',\n",
              " 'neg',\n",
              " 'pos',\n",
              " 'pos',\n",
              " 'pos',\n",
              " 'pos',\n",
              " 'neg',\n",
              " 'pos',\n",
              " 'neg',\n",
              " 'neg',\n",
              " 'pos',\n",
              " 'neg',\n",
              " 'pos',\n",
              " 'neg',\n",
              " 'neg',\n",
              " 'neg',\n",
              " 'pos',\n",
              " 'pos',\n",
              " 'neg',\n",
              " 'pos',\n",
              " 'neg',\n",
              " 'neg',\n",
              " 'pos',\n",
              " 'neg',\n",
              " 'neg',\n",
              " 'pos',\n",
              " 'neg',\n",
              " 'neg',\n",
              " 'neg',\n",
              " 'pos',\n",
              " 'neg',\n",
              " 'pos',\n",
              " 'neg',\n",
              " 'neg',\n",
              " 'pos',\n",
              " 'neg',\n",
              " 'neg',\n",
              " 'pos',\n",
              " 'pos',\n",
              " 'pos',\n",
              " 'neg',\n",
              " 'neg',\n",
              " 'pos',\n",
              " 'pos',\n",
              " 'neg',\n",
              " 'pos',\n",
              " 'pos',\n",
              " 'pos',\n",
              " 'neg',\n",
              " 'pos',\n",
              " 'pos',\n",
              " 'neg',\n",
              " 'neg',\n",
              " 'neg',\n",
              " 'pos',\n",
              " 'pos',\n",
              " 'neg',\n",
              " 'neg',\n",
              " 'neg',\n",
              " 'neg',\n",
              " 'pos',\n",
              " 'neg',\n",
              " 'pos',\n",
              " 'neg',\n",
              " 'neg',\n",
              " 'pos',\n",
              " 'neg',\n",
              " 'neg',\n",
              " 'pos',\n",
              " 'pos',\n",
              " 'pos',\n",
              " 'pos',\n",
              " 'pos',\n",
              " 'neg',\n",
              " 'neg',\n",
              " 'pos',\n",
              " 'neg',\n",
              " 'pos',\n",
              " 'neg',\n",
              " 'neg',\n",
              " 'pos',\n",
              " 'neg',\n",
              " 'neg',\n",
              " 'pos',\n",
              " 'pos',\n",
              " 'neg',\n",
              " 'neg',\n",
              " 'pos',\n",
              " 'neg',\n",
              " 'neg',\n",
              " 'pos',\n",
              " 'pos',\n",
              " 'pos',\n",
              " 'pos',\n",
              " 'pos',\n",
              " 'neg',\n",
              " 'pos',\n",
              " 'pos',\n",
              " 'neg',\n",
              " 'pos',\n",
              " 'neg',\n",
              " 'pos',\n",
              " 'neg',\n",
              " 'pos',\n",
              " 'neg',\n",
              " 'pos',\n",
              " 'pos',\n",
              " 'neg',\n",
              " 'neg',\n",
              " 'pos',\n",
              " 'pos',\n",
              " 'pos',\n",
              " 'pos',\n",
              " 'neg',\n",
              " 'pos',\n",
              " 'pos',\n",
              " 'neg',\n",
              " 'pos',\n",
              " 'pos',\n",
              " 'neg',\n",
              " 'neg',\n",
              " 'pos',\n",
              " 'pos',\n",
              " 'pos',\n",
              " 'neg',\n",
              " 'pos',\n",
              " 'neg',\n",
              " 'pos',\n",
              " 'pos',\n",
              " 'neg',\n",
              " 'neg',\n",
              " 'pos',\n",
              " 'neg',\n",
              " 'neg',\n",
              " 'neg',\n",
              " 'pos',\n",
              " 'pos',\n",
              " 'pos',\n",
              " 'pos',\n",
              " 'neg',\n",
              " 'pos',\n",
              " 'pos',\n",
              " 'neg',\n",
              " 'neg',\n",
              " 'neg',\n",
              " 'neg',\n",
              " 'neg',\n",
              " 'neg',\n",
              " 'neg',\n",
              " 'neg',\n",
              " 'neg',\n",
              " 'pos',\n",
              " 'neg',\n",
              " 'pos',\n",
              " 'neg',\n",
              " 'pos',\n",
              " 'neg',\n",
              " 'pos',\n",
              " 'pos',\n",
              " 'pos',\n",
              " 'neg',\n",
              " 'pos',\n",
              " 'pos',\n",
              " 'pos',\n",
              " 'pos',\n",
              " 'pos',\n",
              " 'pos',\n",
              " 'pos',\n",
              " 'pos',\n",
              " 'neg',\n",
              " 'pos',\n",
              " 'neg',\n",
              " 'neg',\n",
              " 'neg',\n",
              " 'pos',\n",
              " 'pos',\n",
              " 'neg',\n",
              " 'pos',\n",
              " 'neg',\n",
              " 'pos',\n",
              " 'pos',\n",
              " 'neg',\n",
              " 'pos',\n",
              " 'neg',\n",
              " 'pos',\n",
              " 'pos',\n",
              " 'pos',\n",
              " 'neg',\n",
              " 'pos',\n",
              " 'pos',\n",
              " 'neg',\n",
              " 'neg',\n",
              " 'neg',\n",
              " 'pos',\n",
              " 'neg',\n",
              " 'neg',\n",
              " 'neg',\n",
              " 'neg',\n",
              " 'pos',\n",
              " 'pos',\n",
              " 'pos',\n",
              " 'neg',\n",
              " 'neg',\n",
              " 'pos',\n",
              " 'neg',\n",
              " 'pos',\n",
              " 'pos',\n",
              " 'neg',\n",
              " 'neg',\n",
              " 'pos',\n",
              " 'pos',\n",
              " 'neg',\n",
              " 'neg',\n",
              " 'pos',\n",
              " 'neg',\n",
              " 'pos',\n",
              " 'pos',\n",
              " 'neg',\n",
              " 'pos',\n",
              " 'neg',\n",
              " 'neg',\n",
              " 'pos',\n",
              " 'pos',\n",
              " 'neg',\n",
              " 'pos',\n",
              " 'neg',\n",
              " 'pos',\n",
              " 'neg',\n",
              " 'neg',\n",
              " 'neg',\n",
              " 'pos',\n",
              " 'neg',\n",
              " 'pos',\n",
              " 'neg',\n",
              " 'pos',\n",
              " 'neg',\n",
              " 'neg',\n",
              " 'pos',\n",
              " 'pos',\n",
              " 'pos',\n",
              " 'pos',\n",
              " 'neg',\n",
              " 'pos',\n",
              " 'neg',\n",
              " 'pos',\n",
              " 'neg',\n",
              " 'neg',\n",
              " 'pos',\n",
              " 'neg',\n",
              " 'neg',\n",
              " 'pos',\n",
              " 'pos',\n",
              " 'pos',\n",
              " 'neg',\n",
              " 'pos',\n",
              " 'neg',\n",
              " 'pos',\n",
              " 'neg',\n",
              " 'neg',\n",
              " 'pos',\n",
              " 'pos',\n",
              " 'neg',\n",
              " 'neg',\n",
              " 'pos',\n",
              " 'pos',\n",
              " 'neg',\n",
              " 'neg',\n",
              " 'pos',\n",
              " 'neg',\n",
              " 'neg',\n",
              " 'pos',\n",
              " 'pos',\n",
              " 'pos',\n",
              " 'pos',\n",
              " 'neg',\n",
              " 'neg',\n",
              " 'neg',\n",
              " 'pos',\n",
              " 'neg',\n",
              " 'pos',\n",
              " 'pos',\n",
              " 'pos',\n",
              " 'pos',\n",
              " 'pos',\n",
              " 'pos',\n",
              " 'pos',\n",
              " 'neg',\n",
              " 'pos',\n",
              " 'pos',\n",
              " 'neg',\n",
              " 'neg',\n",
              " 'neg',\n",
              " 'neg',\n",
              " 'pos',\n",
              " 'neg',\n",
              " 'pos',\n",
              " 'neg',\n",
              " 'neg',\n",
              " 'neg',\n",
              " 'pos',\n",
              " 'pos',\n",
              " 'pos',\n",
              " 'pos',\n",
              " 'neg',\n",
              " 'neg',\n",
              " 'neg',\n",
              " 'neg',\n",
              " 'pos',\n",
              " 'neg',\n",
              " 'neg',\n",
              " 'neg',\n",
              " 'pos',\n",
              " 'neg',\n",
              " 'neg',\n",
              " 'neg',\n",
              " 'pos',\n",
              " 'neg',\n",
              " 'neg',\n",
              " 'neg',\n",
              " 'pos',\n",
              " 'pos',\n",
              " 'neg',\n",
              " 'neg',\n",
              " 'pos',\n",
              " 'pos',\n",
              " 'pos',\n",
              " 'neg',\n",
              " 'neg',\n",
              " 'pos',\n",
              " 'pos',\n",
              " 'pos',\n",
              " 'neg',\n",
              " 'neg',\n",
              " 'neg',\n",
              " 'pos',\n",
              " 'neg',\n",
              " 'neg',\n",
              " 'neg',\n",
              " 'pos',\n",
              " 'neg',\n",
              " 'neg',\n",
              " 'neg',\n",
              " 'pos',\n",
              " 'neg',\n",
              " 'pos',\n",
              " 'neg',\n",
              " 'pos',\n",
              " 'pos',\n",
              " 'pos',\n",
              " 'neg',\n",
              " 'neg',\n",
              " 'pos',\n",
              " 'neg',\n",
              " 'pos',\n",
              " 'pos',\n",
              " 'pos',\n",
              " 'pos',\n",
              " 'neg',\n",
              " 'neg',\n",
              " 'neg',\n",
              " 'neg',\n",
              " 'pos',\n",
              " 'pos',\n",
              " 'neg',\n",
              " 'pos',\n",
              " 'neg',\n",
              " 'neg',\n",
              " 'pos',\n",
              " 'pos',\n",
              " 'neg',\n",
              " 'pos',\n",
              " 'pos',\n",
              " 'neg',\n",
              " 'pos',\n",
              " 'pos',\n",
              " 'pos',\n",
              " 'pos',\n",
              " 'neg',\n",
              " 'neg',\n",
              " 'neg',\n",
              " 'neg',\n",
              " 'neg',\n",
              " 'pos',\n",
              " 'neg',\n",
              " 'pos',\n",
              " 'neg',\n",
              " 'neg',\n",
              " 'pos',\n",
              " 'pos',\n",
              " 'pos',\n",
              " 'pos',\n",
              " 'pos',\n",
              " 'pos',\n",
              " 'neg',\n",
              " 'pos',\n",
              " 'pos',\n",
              " 'pos',\n",
              " 'pos',\n",
              " 'neg',\n",
              " 'neg',\n",
              " 'neg',\n",
              " 'neg',\n",
              " 'neg',\n",
              " 'neg',\n",
              " 'neg',\n",
              " 'pos',\n",
              " 'pos',\n",
              " 'neg',\n",
              " 'pos',\n",
              " 'pos',\n",
              " 'neg',\n",
              " 'pos',\n",
              " 'pos',\n",
              " 'neg',\n",
              " 'pos',\n",
              " 'pos',\n",
              " 'neg',\n",
              " 'neg',\n",
              " 'pos',\n",
              " 'pos',\n",
              " 'neg',\n",
              " 'pos',\n",
              " 'pos',\n",
              " 'pos',\n",
              " 'pos',\n",
              " 'pos',\n",
              " 'pos',\n",
              " 'neg',\n",
              " 'neg',\n",
              " 'pos']"
            ]
          },
          "metadata": {},
          "execution_count": 8
        }
      ],
      "source": [
        "X_train = [' '.join(words) for (words, label) in train]\n",
        "X_test = [' '.join(words) for (words, label) in test]\n",
        "y_train = [label for (words, label) in train]\n",
        "y_test = [label for (words, label) in test]\n",
        "y_test"
      ]
    },
    {
      "cell_type": "markdown",
      "metadata": {
        "id": "7xUaXrjxH6Ee"
      },
      "source": [
        "*   3.5. Text Vectorization"
      ]
    },
    {
      "cell_type": "code",
      "execution_count": 9,
      "metadata": {
        "id": "fzwM0nsIH-8l"
      },
      "outputs": [],
      "source": [
        "from sklearn.feature_extraction.text import CountVectorizer, TfidfVectorizer\n",
        "\n",
        "tfidf_vec = TfidfVectorizer(min_df = 10, token_pattern = r'[a-zA-Z]+')\n",
        "X_train_bow = tfidf_vec.fit_transform(X_train) # fit train\n",
        "X_test_bow = tfidf_vec.transform(X_test) # transform test\n"
      ]
    },
    {
      "cell_type": "markdown",
      "metadata": {
        "id": "BP1vB3loIF28"
      },
      "source": [
        "*   3.6. Apply **SVM** with **GridSearchCV** "
      ]
    },
    {
      "cell_type": "code",
      "source": [
        "def score_metrix_GridSearchCV(clf, param_gird, score=None, average='binary', x_train=None, x_test=None, y_train=None, y_test=None,pos_label=1):\n",
        "  grid_class = GridSearchCV(estimator=clf, param_grid=param_grid, n_jobs=2,scoring='accuracy',refit = True, return_train_score=True,cv=10)\n",
        "  grid_class.fit(x_train, y_train)\n",
        "  y_predict = grid_class.predict(x_test)\n",
        "  ac = metrics.accuracy_score(y_test, y_predict)\n",
        "  ps = metrics.precision_score(y_test, y_predict,average=average,pos_label=pos_label)\n",
        "  rs = metrics.recall_score(y_test, y_predict,average=average,pos_label=pos_label)\n",
        "  fs = metrics.f1_score(y_test, y_predict,average=average,pos_label=pos_label)\n",
        "  print('Best_param:',grid_class.best_params_)\n",
        "  print('Predict:',y_predict)\n",
        "  print('Accuracy', ac)\n",
        "  print('Precision', ps)\n",
        "  print('Recall', rs)\n",
        "  print('F1', fs)\n",
        "  print(metrics.ConfusionMatrixDisplay.from_predictions(y_test, y_predict))\n",
        "  score.append(ac)\n",
        "  score.append(ps)\n",
        "  score.append(rs)\n",
        "  score.append(fs)\n",
        "  return score"
      ],
      "metadata": {
        "id": "t29luB6vtyrV"
      },
      "execution_count": 16,
      "outputs": []
    },
    {
      "cell_type": "code",
      "execution_count": 17,
      "metadata": {
        "colab": {
          "base_uri": "https://localhost:8080/",
          "height": 1000
        },
        "id": "b3FHQqh1Hlrd",
        "outputId": "ce9c30f8-f2dc-48d7-d743-c7ef6350bfdc"
      },
      "outputs": [
        {
          "output_type": "stream",
          "name": "stdout",
          "text": [
            "Best_param: {'C': 10, 'gamma': 0.1, 'kernel': 'rbf'}\n",
            "Predict: ['pos' 'neg' 'pos' 'neg' 'neg' 'neg' 'neg' 'neg' 'neg' 'pos' 'neg' 'pos'\n",
            " 'pos' 'pos' 'pos' 'neg' 'pos' 'neg' 'pos' 'pos' 'pos' 'neg' 'neg' 'neg'\n",
            " 'neg' 'neg' 'neg' 'neg' 'pos' 'pos' 'pos' 'neg' 'pos' 'neg' 'pos' 'pos'\n",
            " 'pos' 'pos' 'neg' 'neg' 'neg' 'neg' 'neg' 'neg' 'pos' 'neg' 'pos' 'pos'\n",
            " 'neg' 'pos' 'pos' 'pos' 'pos' 'neg' 'neg' 'neg' 'pos' 'pos' 'pos' 'neg'\n",
            " 'neg' 'neg' 'pos' 'neg' 'neg' 'pos' 'pos' 'pos' 'pos' 'neg' 'pos' 'pos'\n",
            " 'pos' 'neg' 'pos' 'neg' 'neg' 'neg' 'neg' 'pos' 'neg' 'pos' 'pos' 'pos'\n",
            " 'pos' 'neg' 'pos' 'pos' 'pos' 'pos' 'pos' 'pos' 'pos' 'pos' 'neg' 'neg'\n",
            " 'neg' 'neg' 'neg' 'neg' 'neg' 'neg' 'neg' 'pos' 'neg' 'pos' 'neg' 'neg'\n",
            " 'neg' 'neg' 'neg' 'pos' 'neg' 'pos' 'neg' 'pos' 'pos' 'neg' 'pos' 'neg'\n",
            " 'pos' 'neg' 'pos' 'neg' 'pos' 'neg' 'neg' 'pos' 'pos' 'pos' 'neg' 'neg'\n",
            " 'pos' 'neg' 'pos' 'pos' 'pos' 'pos' 'pos' 'neg' 'pos' 'neg' 'neg' 'neg'\n",
            " 'pos' 'pos' 'pos' 'neg' 'pos' 'pos' 'neg' 'pos' 'neg' 'pos' 'pos' 'pos'\n",
            " 'pos' 'pos' 'neg' 'neg' 'neg' 'neg' 'pos' 'pos' 'pos' 'pos' 'neg' 'neg'\n",
            " 'neg' 'neg' 'pos' 'pos' 'neg' 'pos' 'neg' 'neg' 'neg' 'pos' 'pos' 'neg'\n",
            " 'neg' 'pos' 'neg' 'pos' 'neg' 'pos' 'pos' 'neg' 'neg' 'pos' 'pos' 'neg'\n",
            " 'neg' 'pos' 'neg' 'pos' 'pos' 'pos' 'neg' 'pos' 'neg' 'pos' 'pos' 'pos'\n",
            " 'pos' 'neg' 'pos' 'neg' 'pos' 'pos' 'pos' 'neg' 'pos' 'pos' 'neg' 'neg'\n",
            " 'pos' 'neg' 'neg' 'pos' 'neg' 'neg' 'neg' 'neg' 'neg' 'pos' 'pos' 'pos'\n",
            " 'neg' 'neg' 'neg' 'neg' 'pos' 'pos' 'pos' 'pos' 'neg' 'pos' 'pos' 'pos'\n",
            " 'pos' 'neg' 'pos' 'neg' 'pos' 'pos' 'pos' 'pos' 'neg' 'pos' 'neg' 'neg'\n",
            " 'pos' 'neg' 'neg' 'pos' 'neg' 'neg' 'neg' 'pos' 'neg' 'pos' 'neg' 'neg'\n",
            " 'pos' 'neg' 'neg' 'pos' 'neg' 'neg' 'pos' 'neg' 'neg' 'neg' 'neg' 'pos'\n",
            " 'neg' 'pos' 'neg' 'pos' 'pos' 'neg' 'neg' 'neg' 'pos' 'pos' 'pos' 'neg'\n",
            " 'neg' 'pos' 'pos' 'neg' 'pos' 'neg' 'neg' 'pos' 'neg' 'neg' 'pos' 'pos'\n",
            " 'pos' 'pos' 'pos' 'neg' 'pos' 'pos' 'neg' 'neg' 'pos' 'neg' 'pos' 'neg'\n",
            " 'pos' 'pos' 'pos' 'neg' 'neg' 'pos' 'neg' 'neg' 'pos' 'pos' 'pos' 'pos'\n",
            " 'pos' 'neg' 'pos' 'pos' 'neg' 'pos' 'neg' 'neg' 'neg' 'pos' 'neg' 'pos'\n",
            " 'pos' 'neg' 'neg' 'pos' 'pos' 'pos' 'pos' 'pos' 'pos' 'pos' 'neg' 'pos'\n",
            " 'pos' 'neg' 'pos' 'pos' 'pos' 'pos' 'neg' 'pos' 'neg' 'pos' 'pos' 'pos'\n",
            " 'pos' 'pos' 'neg' 'neg' 'neg' 'pos' 'neg' 'pos' 'neg' 'neg' 'pos' 'pos'\n",
            " 'neg' 'neg' 'pos' 'neg' 'neg' 'neg' 'neg' 'pos' 'neg' 'neg' 'pos' 'pos'\n",
            " 'neg' 'neg' 'neg' 'neg' 'pos' 'neg' 'neg' 'pos' 'pos' 'pos' 'pos' 'pos'\n",
            " 'pos' 'neg' 'pos' 'pos' 'pos' 'neg' 'neg' 'pos' 'pos' 'pos' 'neg' 'neg'\n",
            " 'neg' 'pos' 'pos' 'neg' 'neg' 'neg' 'pos' 'neg' 'pos' 'pos' 'pos' 'pos'\n",
            " 'neg' 'neg' 'neg' 'neg' 'neg' 'neg' 'neg' 'pos' 'neg' 'neg' 'pos' 'neg'\n",
            " 'neg' 'pos' 'neg' 'pos' 'pos' 'neg' 'neg' 'pos' 'pos' 'neg' 'pos' 'pos'\n",
            " 'neg' 'neg' 'pos' 'neg' 'pos' 'pos' 'neg' 'pos' 'pos' 'neg' 'neg' 'neg'\n",
            " 'pos' 'neg' 'neg' 'neg' 'pos' 'neg' 'pos' 'pos' 'neg' 'neg' 'neg' 'pos'\n",
            " 'pos' 'pos' 'pos' 'neg' 'pos' 'neg' 'pos' 'neg' 'neg' 'neg' 'neg' 'neg'\n",
            " 'pos' 'neg' 'pos' 'neg' 'neg' 'neg' 'pos' 'neg' 'neg' 'pos' 'pos' 'neg'\n",
            " 'neg' 'pos' 'pos' 'neg' 'neg' 'pos' 'neg' 'neg' 'pos' 'pos' 'pos' 'pos'\n",
            " 'neg' 'neg' 'neg' 'pos' 'neg' 'pos' 'pos' 'pos' 'pos' 'pos' 'pos' 'pos'\n",
            " 'neg' 'pos' 'neg' 'neg' 'neg' 'neg' 'neg' 'pos' 'neg' 'pos' 'pos' 'neg'\n",
            " 'neg' 'pos' 'pos' 'pos' 'pos' 'pos' 'neg' 'pos' 'neg' 'neg' 'neg' 'neg'\n",
            " 'neg' 'pos' 'neg' 'neg' 'neg' 'pos' 'neg' 'neg' 'neg' 'pos' 'pos' 'neg'\n",
            " 'neg' 'pos' 'pos' 'pos' 'neg' 'neg' 'pos' 'pos' 'pos' 'neg' 'neg' 'pos'\n",
            " 'pos' 'neg' 'neg' 'pos' 'pos' 'neg' 'neg' 'neg' 'pos' 'neg' 'pos' 'neg'\n",
            " 'pos' 'neg' 'pos' 'neg' 'neg' 'pos' 'pos' 'pos' 'pos' 'pos' 'pos' 'neg'\n",
            " 'neg' 'neg' 'pos' 'pos' 'pos' 'neg' 'pos' 'neg' 'pos' 'pos' 'pos' 'neg'\n",
            " 'pos' 'neg' 'pos' 'neg' 'pos' 'pos' 'pos' 'pos' 'pos' 'neg' 'neg' 'neg'\n",
            " 'pos' 'pos' 'pos' 'neg' 'pos' 'pos' 'pos' 'pos' 'neg' 'pos' 'pos' 'neg'\n",
            " 'pos' 'pos' 'pos' 'pos' 'pos' 'neg' 'neg' 'neg' 'neg' 'pos' 'neg' 'pos'\n",
            " 'pos' 'neg' 'neg' 'pos' 'neg' 'pos' 'pos' 'neg' 'pos' 'pos' 'pos' 'neg'\n",
            " 'pos' 'neg' 'neg' 'neg' 'pos' 'neg' 'neg' 'pos' 'pos' 'neg' 'neg' 'pos']\n",
            "Accuracy 0.8121212121212121\n",
            "Precision 0.8088235294117647\n",
            "Recall 0.8233532934131736\n",
            "F1 0.8160237388724036\n",
            "<sklearn.metrics._plot.confusion_matrix.ConfusionMatrixDisplay object at 0x7f2fc9a415b0>\n"
          ]
        },
        {
          "output_type": "display_data",
          "data": {
            "text/plain": [
              "<Figure size 640x480 with 2 Axes>"
            ],
            "image/png": "[encoded data removed]"
          },
          "metadata": {}
        }
      ],
      "source": [
        "#code\n",
        "param_grid = {'C': [1, 10],\n",
        "              'gamma': [1, 0.1],\n",
        "              'kernel': ['rbf','linear']}\n",
        "svm_class = svm.SVC()\n",
        "svm = score_metrix_GridSearchCV(svm_class, param_grid, score=[\"SVM\"], x_train=X_train_bow, x_test=X_test_bow, y_train=y_train, y_test=y_test,pos_label='pos')\n",
        "\n"
      ]
    },
    {
      "cell_type": "markdown",
      "metadata": {
        "id": "N1Fy8jYBIdxi"
      },
      "source": [
        "*   3.7. Apply **RandomForest** with **GridSearchCV** "
      ]
    },
    {
      "cell_type": "code",
      "execution_count": 18,
      "metadata": {
        "id": "Fyfw2R-gIhWl",
        "colab": {
          "base_uri": "https://localhost:8080/",
          "height": 1000
        },
        "outputId": "48866db4-59a1-48d8-ee2d-682acc0c4c64"
      },
      "outputs": [
        {
          "output_type": "stream",
          "name": "stdout",
          "text": [
            "Best_param: {'max_depth': 6, 'max_features': 'sqrt', 'max_leaf_nodes': 6, 'n_estimators': 150}\n",
            "Predict: ['pos' 'neg' 'pos' 'neg' 'neg' 'pos' 'neg' 'neg' 'neg' 'neg' 'neg' 'neg'\n",
            " 'neg' 'pos' 'pos' 'neg' 'pos' 'pos' 'pos' 'pos' 'pos' 'neg' 'neg' 'neg'\n",
            " 'neg' 'neg' 'neg' 'neg' 'pos' 'neg' 'pos' 'neg' 'pos' 'neg' 'pos' 'pos'\n",
            " 'pos' 'neg' 'neg' 'neg' 'pos' 'neg' 'pos' 'neg' 'pos' 'neg' 'pos' 'neg'\n",
            " 'pos' 'pos' 'pos' 'pos' 'pos' 'neg' 'pos' 'neg' 'neg' 'pos' 'neg' 'pos'\n",
            " 'neg' 'neg' 'pos' 'neg' 'neg' 'pos' 'pos' 'pos' 'pos' 'pos' 'pos' 'pos'\n",
            " 'pos' 'neg' 'pos' 'pos' 'neg' 'neg' 'neg' 'pos' 'neg' 'pos' 'neg' 'pos'\n",
            " 'pos' 'neg' 'pos' 'pos' 'pos' 'pos' 'pos' 'pos' 'pos' 'pos' 'neg' 'neg'\n",
            " 'neg' 'neg' 'neg' 'pos' 'neg' 'neg' 'neg' 'pos' 'neg' 'pos' 'neg' 'pos'\n",
            " 'pos' 'pos' 'neg' 'pos' 'neg' 'neg' 'neg' 'pos' 'pos' 'neg' 'pos' 'neg'\n",
            " 'pos' 'neg' 'neg' 'neg' 'pos' 'neg' 'neg' 'pos' 'pos' 'pos' 'neg' 'pos'\n",
            " 'pos' 'neg' 'pos' 'pos' 'pos' 'pos' 'pos' 'pos' 'pos' 'neg' 'neg' 'neg'\n",
            " 'pos' 'pos' 'pos' 'pos' 'pos' 'pos' 'neg' 'pos' 'neg' 'pos' 'pos' 'neg'\n",
            " 'pos' 'pos' 'neg' 'neg' 'pos' 'neg' 'pos' 'pos' 'pos' 'pos' 'neg' 'neg'\n",
            " 'pos' 'neg' 'pos' 'neg' 'neg' 'pos' 'neg' 'neg' 'neg' 'pos' 'pos' 'neg'\n",
            " 'pos' 'neg' 'neg' 'pos' 'neg' 'pos' 'pos' 'neg' 'neg' 'neg' 'pos' 'neg'\n",
            " 'neg' 'neg' 'neg' 'pos' 'pos' 'pos' 'neg' 'pos' 'pos' 'pos' 'pos' 'pos'\n",
            " 'pos' 'neg' 'pos' 'neg' 'pos' 'pos' 'pos' 'pos' 'pos' 'pos' 'neg' 'neg'\n",
            " 'pos' 'neg' 'neg' 'pos' 'neg' 'neg' 'neg' 'neg' 'neg' 'pos' 'pos' 'pos'\n",
            " 'neg' 'neg' 'neg' 'neg' 'pos' 'pos' 'pos' 'pos' 'pos' 'pos' 'neg' 'pos'\n",
            " 'neg' 'neg' 'pos' 'pos' 'neg' 'pos' 'pos' 'pos' 'neg' 'pos' 'neg' 'neg'\n",
            " 'pos' 'neg' 'neg' 'pos' 'neg' 'neg' 'neg' 'pos' 'neg' 'pos' 'neg' 'pos'\n",
            " 'pos' 'neg' 'neg' 'pos' 'pos' 'neg' 'neg' 'neg' 'neg' 'neg' 'neg' 'pos'\n",
            " 'pos' 'pos' 'neg' 'pos' 'pos' 'neg' 'pos' 'neg' 'pos' 'pos' 'pos' 'neg'\n",
            " 'neg' 'pos' 'pos' 'neg' 'pos' 'neg' 'neg' 'pos' 'neg' 'neg' 'pos' 'pos'\n",
            " 'pos' 'pos' 'pos' 'neg' 'pos' 'pos' 'neg' 'pos' 'neg' 'neg' 'pos' 'pos'\n",
            " 'neg' 'pos' 'pos' 'pos' 'neg' 'neg' 'neg' 'pos' 'pos' 'pos' 'pos' 'pos'\n",
            " 'pos' 'neg' 'neg' 'pos' 'pos' 'pos' 'pos' 'pos' 'neg' 'pos' 'neg' 'pos'\n",
            " 'pos' 'neg' 'neg' 'pos' 'pos' 'pos' 'pos' 'pos' 'pos' 'pos' 'pos' 'pos'\n",
            " 'pos' 'neg' 'neg' 'pos' 'pos' 'pos' 'neg' 'pos' 'neg' 'pos' 'pos' 'neg'\n",
            " 'pos' 'neg' 'neg' 'neg' 'neg' 'neg' 'pos' 'pos' 'neg' 'neg' 'pos' 'neg'\n",
            " 'neg' 'neg' 'pos' 'neg' 'neg' 'neg' 'neg' 'pos' 'neg' 'pos' 'pos' 'pos'\n",
            " 'neg' 'pos' 'pos' 'neg' 'pos' 'neg' 'pos' 'pos' 'pos' 'pos' 'pos' 'pos'\n",
            " 'pos' 'neg' 'pos' 'pos' 'pos' 'neg' 'neg' 'pos' 'pos' 'pos' 'neg' 'neg'\n",
            " 'neg' 'pos' 'neg' 'neg' 'neg' 'neg' 'pos' 'pos' 'pos' 'pos' 'pos' 'pos'\n",
            " 'neg' 'neg' 'neg' 'pos' 'neg' 'neg' 'pos' 'neg' 'neg' 'pos' 'pos' 'neg'\n",
            " 'pos' 'neg' 'neg' 'pos' 'pos' 'neg' 'neg' 'pos' 'pos' 'neg' 'pos' 'pos'\n",
            " 'neg' 'neg' 'neg' 'pos' 'pos' 'neg' 'pos' 'pos' 'pos' 'neg' 'pos' 'neg'\n",
            " 'pos' 'neg' 'neg' 'neg' 'neg' 'neg' 'pos' 'pos' 'neg' 'neg' 'neg' 'pos'\n",
            " 'pos' 'pos' 'pos' 'neg' 'pos' 'neg' 'pos' 'neg' 'neg' 'neg' 'neg' 'neg'\n",
            " 'pos' 'neg' 'pos' 'neg' 'pos' 'neg' 'pos' 'neg' 'neg' 'neg' 'pos' 'neg'\n",
            " 'neg' 'neg' 'pos' 'pos' 'neg' 'pos' 'neg' 'neg' 'pos' 'pos' 'pos' 'pos'\n",
            " 'neg' 'neg' 'neg' 'pos' 'neg' 'pos' 'pos' 'pos' 'pos' 'pos' 'pos' 'pos'\n",
            " 'neg' 'pos' 'neg' 'neg' 'neg' 'neg' 'neg' 'pos' 'neg' 'pos' 'pos' 'neg'\n",
            " 'neg' 'pos' 'pos' 'pos' 'pos' 'neg' 'neg' 'neg' 'neg' 'pos' 'neg' 'neg'\n",
            " 'neg' 'pos' 'neg' 'neg' 'neg' 'pos' 'neg' 'neg' 'neg' 'pos' 'pos' 'neg'\n",
            " 'neg' 'pos' 'pos' 'neg' 'neg' 'neg' 'pos' 'pos' 'pos' 'neg' 'neg' 'pos'\n",
            " 'pos' 'neg' 'neg' 'pos' 'pos' 'neg' 'neg' 'neg' 'pos' 'neg' 'neg' 'neg'\n",
            " 'pos' 'neg' 'pos' 'neg' 'neg' 'pos' 'pos' 'pos' 'pos' 'neg' 'pos' 'neg'\n",
            " 'neg' 'pos' 'pos' 'pos' 'pos' 'neg' 'pos' 'neg' 'pos' 'neg' 'pos' 'neg'\n",
            " 'pos' 'pos' 'neg' 'pos' 'neg' 'pos' 'pos' 'pos' 'pos' 'neg' 'neg' 'neg'\n",
            " 'pos' 'neg' 'pos' 'neg' 'pos' 'pos' 'pos' 'pos' 'neg' 'neg' 'pos' 'neg'\n",
            " 'pos' 'pos' 'pos' 'pos' 'neg' 'neg' 'neg' 'neg' 'neg' 'pos' 'neg' 'pos'\n",
            " 'pos' 'neg' 'neg' 'pos' 'pos' 'pos' 'neg' 'neg' 'pos' 'pos' 'neg' 'neg'\n",
            " 'pos' 'pos' 'neg' 'pos' 'neg' 'neg' 'neg' 'neg' 'neg' 'pos' 'neg' 'neg']\n",
            "Accuracy 0.7909090909090909\n",
            "Precision 0.7848837209302325\n",
            "Recall 0.8083832335329342\n",
            "F1 0.7964601769911505\n",
            "<sklearn.metrics._plot.confusion_matrix.ConfusionMatrixDisplay object at 0x7f2f94bd5610>\n"
          ]
        },
        {
          "output_type": "display_data",
          "data": {
            "text/plain": [
              "<Figure size 640x480 with 2 Axes>"
            ],
            "image/png": "[encoded data removed]"
          },
          "metadata": {}
        }
      ],
      "source": [
        "#code\n",
        "param_grid = {\n",
        "    'n_estimators': [25, 150],\n",
        "    'max_features': ['sqrt', 'log2'],\n",
        "    'max_depth': [6, 9],\n",
        "    'max_leaf_nodes': [3, 6],\n",
        "}\n",
        "clf = RandomForestClassifier()\n",
        "rf = score_metrix_GridSearchCV(clf, param_grid, score=[\"RandomForest\"], x_train=X_train_bow, x_test=X_test_bow, y_train=y_train, y_test=y_test,pos_label='pos')"
      ]
    },
    {
      "cell_type": "markdown",
      "metadata": {
        "id": "_btsVKjIIiLT"
      },
      "source": [
        "*   3.8. Apply **kNN** with **GridSearchCV** "
      ]
    },
    {
      "cell_type": "code",
      "source": [
        "#code\n",
        "param_grid = { 'n_neighbors' : [5,7,9],\n",
        "               'weights' : ['uniform','distance'],\n",
        "               'metric' : ['minkowski','euclidean']}\n",
        "clf = KNeighborsClassifier()\n",
        "knn = score_metrix_GridSearchCV(clf, param_grid, score=[\"KNN\"], x_train=X_train_bow, x_test=X_test_bow, y_train=y_train, y_test=y_test,pos_label='pos')"
      ],
      "metadata": {
        "id": "ujv7Yd-UG2xV"
      },
      "execution_count": null,
      "outputs": []
    },
    {
      "cell_type": "markdown",
      "metadata": {
        "id": "0Ix_HeVGIvDu"
      },
      "source": [
        "*   3.9. Apply **LogisticRegression** with **GridSearchCV** "
      ]
    },
    {
      "cell_type": "code",
      "execution_count": 20,
      "metadata": {
        "id": "sTd3alCMIr-i",
        "colab": {
          "base_uri": "https://localhost:8080/",
          "height": 1000
        },
        "outputId": "bed7fa04-d685-486d-f305-af6eaf2e7933"
      },
      "outputs": [
        {
          "output_type": "stream",
          "name": "stdout",
          "text": [
            "Best_param: {'C': 1, 'solver': 'liblinear'}\n",
            "Predict: ['pos' 'neg' 'pos' 'neg' 'neg' 'pos' 'neg' 'neg' 'neg' 'pos' 'neg' 'neg'\n",
            " 'pos' 'neg' 'neg' 'neg' 'neg' 'neg' 'pos' 'neg' 'pos' 'pos' 'neg' 'neg'\n",
            " 'neg' 'neg' 'pos' 'neg' 'pos' 'pos' 'pos' 'pos' 'pos' 'neg' 'pos' 'pos'\n",
            " 'pos' 'pos' 'neg' 'pos' 'neg' 'neg' 'neg' 'neg' 'pos' 'neg' 'pos' 'pos'\n",
            " 'neg' 'pos' 'pos' 'pos' 'pos' 'neg' 'neg' 'neg' 'pos' 'pos' 'neg' 'neg'\n",
            " 'neg' 'neg' 'pos' 'neg' 'neg' 'pos' 'pos' 'pos' 'pos' 'pos' 'pos' 'pos'\n",
            " 'pos' 'neg' 'pos' 'pos' 'neg' 'neg' 'neg' 'pos' 'neg' 'pos' 'neg' 'pos'\n",
            " 'pos' 'pos' 'pos' 'pos' 'pos' 'pos' 'pos' 'pos' 'pos' 'pos' 'pos' 'neg'\n",
            " 'pos' 'neg' 'neg' 'neg' 'neg' 'neg' 'neg' 'pos' 'neg' 'pos' 'neg' 'neg'\n",
            " 'pos' 'neg' 'neg' 'pos' 'pos' 'pos' 'neg' 'pos' 'pos' 'neg' 'pos' 'neg'\n",
            " 'pos' 'neg' 'pos' 'neg' 'pos' 'neg' 'neg' 'pos' 'pos' 'pos' 'neg' 'neg'\n",
            " 'pos' 'neg' 'pos' 'pos' 'pos' 'pos' 'neg' 'neg' 'pos' 'neg' 'neg' 'neg'\n",
            " 'pos' 'pos' 'pos' 'neg' 'pos' 'pos' 'neg' 'pos' 'neg' 'pos' 'pos' 'neg'\n",
            " 'pos' 'pos' 'neg' 'neg' 'neg' 'neg' 'pos' 'pos' 'pos' 'pos' 'neg' 'neg'\n",
            " 'pos' 'neg' 'pos' 'pos' 'neg' 'pos' 'neg' 'neg' 'neg' 'pos' 'pos' 'neg'\n",
            " 'neg' 'neg' 'neg' 'pos' 'neg' 'pos' 'pos' 'neg' 'neg' 'pos' 'pos' 'neg'\n",
            " 'neg' 'pos' 'neg' 'pos' 'neg' 'pos' 'neg' 'pos' 'neg' 'pos' 'pos' 'pos'\n",
            " 'pos' 'neg' 'pos' 'neg' 'pos' 'pos' 'pos' 'neg' 'pos' 'pos' 'neg' 'pos'\n",
            " 'pos' 'neg' 'pos' 'pos' 'neg' 'neg' 'neg' 'neg' 'neg' 'pos' 'pos' 'pos'\n",
            " 'neg' 'neg' 'neg' 'neg' 'pos' 'pos' 'pos' 'pos' 'neg' 'pos' 'pos' 'neg'\n",
            " 'pos' 'neg' 'pos' 'neg' 'pos' 'pos' 'pos' 'pos' 'neg' 'pos' 'neg' 'neg'\n",
            " 'pos' 'neg' 'neg' 'pos' 'neg' 'neg' 'neg' 'pos' 'neg' 'pos' 'neg' 'pos'\n",
            " 'pos' 'neg' 'neg' 'neg' 'neg' 'neg' 'pos' 'neg' 'neg' 'neg' 'neg' 'pos'\n",
            " 'neg' 'pos' 'neg' 'pos' 'pos' 'neg' 'pos' 'neg' 'pos' 'pos' 'pos' 'neg'\n",
            " 'neg' 'pos' 'pos' 'neg' 'pos' 'neg' 'neg' 'pos' 'neg' 'neg' 'pos' 'pos'\n",
            " 'pos' 'pos' 'neg' 'neg' 'pos' 'pos' 'neg' 'neg' 'neg' 'neg' 'pos' 'neg'\n",
            " 'pos' 'pos' 'pos' 'pos' 'neg' 'pos' 'neg' 'neg' 'pos' 'pos' 'pos' 'pos'\n",
            " 'pos' 'neg' 'pos' 'pos' 'pos' 'neg' 'neg' 'neg' 'neg' 'pos' 'neg' 'pos'\n",
            " 'pos' 'neg' 'neg' 'pos' 'pos' 'pos' 'pos' 'pos' 'pos' 'pos' 'neg' 'pos'\n",
            " 'pos' 'neg' 'pos' 'pos' 'pos' 'pos' 'neg' 'pos' 'neg' 'pos' 'pos' 'neg'\n",
            " 'pos' 'pos' 'neg' 'neg' 'neg' 'neg' 'neg' 'pos' 'neg' 'pos' 'pos' 'pos'\n",
            " 'neg' 'neg' 'pos' 'neg' 'neg' 'neg' 'neg' 'neg' 'neg' 'pos' 'pos' 'pos'\n",
            " 'pos' 'neg' 'pos' 'neg' 'pos' 'neg' 'neg' 'pos' 'pos' 'pos' 'pos' 'pos'\n",
            " 'pos' 'neg' 'pos' 'pos' 'pos' 'neg' 'neg' 'pos' 'pos' 'pos' 'neg' 'neg'\n",
            " 'neg' 'pos' 'pos' 'neg' 'neg' 'neg' 'pos' 'neg' 'pos' 'pos' 'pos' 'pos'\n",
            " 'neg' 'neg' 'neg' 'pos' 'neg' 'neg' 'pos' 'neg' 'neg' 'neg' 'pos' 'neg'\n",
            " 'neg' 'pos' 'neg' 'pos' 'pos' 'neg' 'neg' 'pos' 'pos' 'neg' 'pos' 'pos'\n",
            " 'neg' 'neg' 'pos' 'neg' 'pos' 'neg' 'neg' 'pos' 'pos' 'neg' 'neg' 'neg'\n",
            " 'pos' 'neg' 'neg' 'neg' 'neg' 'neg' 'pos' 'pos' 'pos' 'neg' 'neg' 'pos'\n",
            " 'pos' 'pos' 'pos' 'neg' 'pos' 'neg' 'pos' 'neg' 'neg' 'neg' 'neg' 'neg'\n",
            " 'pos' 'neg' 'pos' 'neg' 'pos' 'neg' 'pos' 'neg' 'neg' 'neg' 'pos' 'neg'\n",
            " 'neg' 'pos' 'pos' 'pos' 'neg' 'pos' 'neg' 'neg' 'pos' 'pos' 'neg' 'pos'\n",
            " 'neg' 'pos' 'neg' 'pos' 'neg' 'pos' 'pos' 'pos' 'pos' 'pos' 'pos' 'pos'\n",
            " 'neg' 'pos' 'neg' 'neg' 'neg' 'neg' 'neg' 'pos' 'neg' 'pos' 'pos' 'neg'\n",
            " 'neg' 'pos' 'pos' 'pos' 'pos' 'pos' 'neg' 'neg' 'neg' 'neg' 'pos' 'neg'\n",
            " 'neg' 'pos' 'neg' 'neg' 'neg' 'pos' 'neg' 'neg' 'neg' 'pos' 'pos' 'neg'\n",
            " 'neg' 'pos' 'pos' 'neg' 'neg' 'neg' 'pos' 'pos' 'pos' 'neg' 'neg' 'pos'\n",
            " 'pos' 'neg' 'neg' 'pos' 'pos' 'neg' 'neg' 'neg' 'pos' 'neg' 'neg' 'neg'\n",
            " 'pos' 'neg' 'pos' 'neg' 'neg' 'pos' 'pos' 'pos' 'pos' 'pos' 'pos' 'neg'\n",
            " 'neg' 'neg' 'pos' 'pos' 'pos' 'neg' 'pos' 'neg' 'pos' 'pos' 'pos' 'neg'\n",
            " 'pos' 'pos' 'pos' 'pos' 'pos' 'pos' 'pos' 'neg' 'neg' 'pos' 'neg' 'neg'\n",
            " 'pos' 'pos' 'pos' 'neg' 'neg' 'pos' 'pos' 'pos' 'neg' 'pos' 'pos' 'neg'\n",
            " 'pos' 'pos' 'pos' 'neg' 'neg' 'neg' 'neg' 'neg' 'neg' 'pos' 'neg' 'pos'\n",
            " 'pos' 'neg' 'neg' 'pos' 'neg' 'pos' 'neg' 'neg' 'pos' 'pos' 'neg' 'neg'\n",
            " 'pos' 'neg' 'neg' 'pos' 'pos' 'neg' 'pos' 'pos' 'neg' 'pos' 'neg' 'pos']\n",
            "Accuracy 0.7954545454545454\n",
            "Precision 0.7917888563049853\n",
            "Recall 0.8083832335329342\n",
            "F1 0.8\n",
            "<sklearn.metrics._plot.confusion_matrix.ConfusionMatrixDisplay object at 0x7f2f94baaa30>\n"
          ]
        },
        {
          "output_type": "display_data",
          "data": {
            "text/plain": [
              "<Figure size 640x480 with 2 Axes>"
            ],
            "image/png": "[encoded data removed]"
          },
          "metadata": {}
        }
      ],
      "source": [
        "#code\n",
        "param_grid = {'solver': ['newton-cg', 'lbfgs', 'liblinear'],\n",
        "              'C':[0.001, 0.01, 0.1, 1]}\n",
        "clf = LogisticRegression()\n",
        "logis = score_metrix_GridSearchCV(clf, param_grid, score=[\"LogisticRegression\"], x_train=X_train_bow, x_test=X_test_bow, y_train=y_train, y_test=y_test,pos_label='pos')"
      ]
    },
    {
      "cell_type": "markdown",
      "metadata": {
        "id": "nhYF2y6eI058"
      },
      "source": [
        "*   3.10. Compare the best obtained results among classification algorithms (use PrettyTable to dispaly the results) "
      ]
    },
    {
      "cell_type": "code",
      "source": [
        "param_grid = {'solver': ['newton-cg', 'lbfgs', 'liblinear'], 'C':[0.001, 0.01, 0.1, 1]}\n",
        "table = PrettyTable(['Classification','Accuracy','Precision','Recall','F1'])\n",
        "for r in param_grid:\n",
        "  table.add_row(r)\n",
        "print(table)"
      ],
      "metadata": {
        "id": "Qmtb9JmqG_QN"
      },
      "execution_count": null,
      "outputs": []
    },
    {
      "cell_type": "markdown",
      "metadata": {
        "id": "Ok7RGkea_b7n"
      },
      "source": [
        "#Finally,\n",
        "Save a copy in your Github. Remember renaming the notebook."
      ]
    }
  ],
  "metadata": {
    "colab": {
      "provenance": [],
      "include_colab_link": true
    },
    "kernelspec": {
      "display_name": "Python 3",
      "name": "python3"
    },
    "language_info": {
      "name": "python"
    }
  },
  "nbformat": 4,
  "nbformat_minor": 0
}