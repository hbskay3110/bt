{
  "nbformat": 4,
  "nbformat_minor": 0,
  "metadata": {
    "colab": {
      "provenance": [],
      "include_colab_link": true
    },
    "kernelspec": {
      "name": "python3",
      "display_name": "Python 3"
    },
    "language_info": {
      "name": "python"
    }
  },
  "cells": [
    {
      "cell_type": "markdown",
      "metadata": {
        "id": "view-in-github",
        "colab_type": "text"
      },
      "source": [
        "<a href=\"https://colab.research.google.com/github/hbskay3110/bt/blob/main/Lab_5_20130298_NguyenTrungKien.ipynb\" target=\"_parent\"><img src=\"https://colab.research.google.com/assets/colab-badge.svg\" alt=\"Open In Colab\"/></a>"
      ]
    },
    {
      "cell_type": "markdown",
      "source": [
        "# This lab is to deal with **SVM** to classification tasks and compare its performance with other competitive algorithms. In general, **SVM** is one of the most popular and widely used supervised machine learning algorithms.\n",
        "\n",
        "*   **Deadline: 23:59, 17/03/2023**\n",
        "\n"
      ],
      "metadata": {
        "id": "LMzehe0sy5wr"
      }
    },
    {
      "cell_type": "markdown",
      "source": [
        "# Import libraries"
      ],
      "metadata": {
        "id": "H4nJmxp9zGX4"
      }
    },
    {
      "cell_type": "code",
      "execution_count": null,
      "metadata": {
        "id": "DoVWQ8AEyc-C",
        "colab": {
          "base_uri": "https://localhost:8080/"
        },
        "outputId": "bd9d0d35-64bc-43d6-fc0f-b16fa0aa9643"
      },
      "outputs": [
        {
          "output_type": "stream",
          "name": "stdout",
          "text": [
            "Mounted at /content/gdrive\n",
            "/content/gdrive/MyDrive/DATA_ML\n"
          ]
        }
      ],
      "source": [
        "# code\n",
        "# code\n",
        "from google.colab import drive\n",
        "drive.mount('/content/gdrive')\n",
        "%cd '/content/gdrive/MyDrive/DATA_ML'\n",
        "\n"
      ]
    },
    {
      "cell_type": "code",
      "source": [
        "from sklearn import datasets\n",
        "from sklearn.model_selection import train_test_split\n",
        "from sklearn import svm\n",
        "from sklearn import metrics\n",
        "import pandas as pd\n",
        "from sklearn.linear_model import LogisticRegression\n",
        "from sklearn.neighbors import KNeighborsClassifier\n",
        "from sklearn.tree import DecisionTreeClassifier"
      ],
      "metadata": {
        "id": "kZUSaNfxNuZq"
      },
      "execution_count": 1,
      "outputs": []
    },
    {
      "cell_type": "markdown",
      "source": [
        "#Task 1. \n",
        "For breast cancer dataset (https://tinyurl.com/3vme8hr3) which could be loaded from datasets in sklearn as follows:\n",
        "\n",
        "```\n",
        "#Import scikit-learn dataset library\n",
        "from sklearn import datasets\n",
        "\n",
        "#Load dataset\n",
        "cancer = datasets.load_breast_cancer()\n",
        "```\n",
        "\n",
        "*   1.1.\tApply SVM algorithm to above dataset using linear kernel.\n",
        "*   1.2.\tCompare the obtained results with other competitive algorithms (Logistic Regression, Decision Tree, kNN) based on metrics: accuracy, precision, recall, f1 measures.\n",
        "\n"
      ],
      "metadata": {
        "id": "kNv07ARGzOUm"
      }
    },
    {
      "cell_type": "code",
      "source": [
        "# code\n",
        "cancer = datasets.load_breast_cancer()\n",
        "X = cancer.data\n",
        "y = cancer.target\n",
        "X_train,X_test,y_train,y_test= train_test_split(X, y, test_size=0.3,random_state=0)\n",
        "clf = svm.SVC(kernel='linear') # Linear Kernel\n",
        "clf.fit(X_train, y_train)\n",
        "y_pred = clf.predict(X_test)\n",
        "smvAccs = metrics.accuracy_score(y_test, y_pred);\n",
        "smvPrecss = metrics.precision_score(y_test, y_pred,average='macro');\n",
        "smvRecalls = metrics.recall_score(y_test, y_pred,average='macro');\n",
        "smvF1s = metrics.f1_score(y_test, y_pred,average='macro');\n",
        "print(metrics.classification_report(y_test, y_pred))"
      ],
      "metadata": {
        "id": "sOsg77IBzEyo",
        "colab": {
          "base_uri": "https://localhost:8080/"
        },
        "outputId": "5f0948c3-3c84-4cdd-aaad-88792532b760"
      },
      "execution_count": null,
      "outputs": [
        {
          "output_type": "stream",
          "name": "stdout",
          "text": [
            "              precision    recall  f1-score   support\n",
            "\n",
            "           0       0.92      0.97      0.95        63\n",
            "           1       0.98      0.95      0.97       108\n",
            "\n",
            "    accuracy                           0.96       171\n",
            "   macro avg       0.95      0.96      0.96       171\n",
            "weighted avg       0.96      0.96      0.96       171\n",
            "\n"
          ]
        }
      ]
    },
    {
      "cell_type": "code",
      "source": [
        "classifier = LogisticRegression(random_state = 0)\n",
        "classifier.fit(X_train, y_train)\n",
        "y_pred = classifier.predict(X_test)\n",
        "lrAccs = metrics.accuracy_score(y_test, y_pred);\n",
        "lrPrecss = metrics.precision_score(y_test, y_pred,average='macro');\n",
        "lrRecalls = metrics.recall_score(y_test, y_pred,average='macro');\n",
        "lrF1s = metrics.f1_score(y_test, y_pred,average='macro');\n",
        "print(metrics.classification_report(y_test, y_pred))\n"
      ],
      "metadata": {
        "colab": {
          "base_uri": "https://localhost:8080/"
        },
        "id": "8xxNPNrYQkfh",
        "outputId": "59546019-d612-4ae2-83d6-c578189e114f"
      },
      "execution_count": null,
      "outputs": [
        {
          "output_type": "stream",
          "name": "stdout",
          "text": [
            "              precision    recall  f1-score   support\n",
            "\n",
            "           0       0.91      0.97      0.94        63\n",
            "           1       0.98      0.94      0.96       108\n",
            "\n",
            "    accuracy                           0.95       171\n",
            "   macro avg       0.95      0.96      0.95       171\n",
            "weighted avg       0.95      0.95      0.95       171\n",
            "\n"
          ]
        },
        {
          "output_type": "stream",
          "name": "stderr",
          "text": [
            "/usr/local/lib/python3.9/dist-packages/sklearn/linear_model/_logistic.py:458: ConvergenceWarning: lbfgs failed to converge (status=1):\n",
            "STOP: TOTAL NO. of ITERATIONS REACHED LIMIT.\n",
            "\n",
            "Increase the number of iterations (max_iter) or scale the data as shown in:\n",
            "    https://scikit-learn.org/stable/modules/preprocessing.html\n",
            "Please also refer to the documentation for alternative solver options:\n",
            "    https://scikit-learn.org/stable/modules/linear_model.html#logistic-regression\n",
            "  n_iter_i = _check_optimize_result(\n"
          ]
        }
      ]
    },
    {
      "cell_type": "code",
      "source": [
        "k = range(1,30,2);\n",
        "acccs = [];\n",
        "precss = [];\n",
        "recalls = [];\n",
        "f1s = [];\n",
        "for i in k:\n",
        "  knm = KNeighborsClassifier(n_neighbors=i)\n",
        "  knm.fit(X_train, y_train)\n",
        "  y_pred = knm.predict(X_test)\n",
        "  acccs.append(metrics.accuracy_score(y_test, y_pred))\n",
        "  precss.append(metrics.precision_score(y_test, y_pred,average='macro'))\n",
        "  recalls.append(metrics.recall_score(y_test, y_pred,average='macro'))\n",
        "  f1s.append(metrics.f1_score(y_test, y_pred,average='macro'))\n",
        "  \n",
        "print(metrics.classification_report(y_test, y_pred))\n"
      ],
      "metadata": {
        "colab": {
          "base_uri": "https://localhost:8080/"
        },
        "id": "1Z47HmFQRBLC",
        "outputId": "81f47df7-191b-471e-aa64-d03bee48d884"
      },
      "execution_count": null,
      "outputs": [
        {
          "output_type": "stream",
          "name": "stdout",
          "text": [
            "              precision    recall  f1-score   support\n",
            "\n",
            "           0       0.97      0.90      0.93        63\n",
            "           1       0.95      0.98      0.96       108\n",
            "\n",
            "    accuracy                           0.95       171\n",
            "   macro avg       0.96      0.94      0.95       171\n",
            "weighted avg       0.95      0.95      0.95       171\n",
            "\n"
          ]
        }
      ]
    },
    {
      "cell_type": "code",
      "source": [
        "clf = DecisionTreeClassifier(random_state=0)\n",
        "clf.fit(X_train, y_train)\n",
        "y_pred = clf.predict(X_test)\n",
        "dtAccs = metrics.accuracy_score(y_test, y_pred);\n",
        "dtPrecss = metrics.precision_score(y_test, y_pred,average='macro');\n",
        "dtRecalls = metrics.recall_score(y_test, y_pred,average='macro');\n",
        "dtF1s = metrics.f1_score(y_test, y_pred,average='macro');\n",
        "print(metrics.classification_report(y_test, y_pred))\n"
      ],
      "metadata": {
        "colab": {
          "base_uri": "https://localhost:8080/"
        },
        "id": "DWxqYp1QR636",
        "outputId": "ad144275-4021-41fd-b8fa-fe94c66a587a"
      },
      "execution_count": null,
      "outputs": [
        {
          "output_type": "stream",
          "name": "stdout",
          "text": [
            "              precision    recall  f1-score   support\n",
            "\n",
            "           0       0.84      0.94      0.89        63\n",
            "           1       0.96      0.90      0.93       108\n",
            "\n",
            "    accuracy                           0.91       171\n",
            "   macro avg       0.90      0.92      0.91       171\n",
            "weighted avg       0.92      0.91      0.91       171\n",
            "\n"
          ]
        }
      ]
    },
    {
      "cell_type": "code",
      "source": [
        "d_KNN = {'Accuracy':max(acccs), 'Precision':max(precss), 'Recall':max(recalls), 'F1': max(f1s)}\n",
        "d_Logictis =  {'Accuracy': lrAccs, 'Precision': lrPrecss, 'Recall': lrRecalls, 'F1': lrF1s}\n",
        "d_DecisionTree =  {'Accuracy': dtAccs, 'Precision': dtPrecss, 'Recall': dtRecalls, 'F1': dtF1s}\n",
        "d_svm =  {'Accuracy': smvAccs, 'Precision': smvPrecss, 'Recall': smvRecalls, 'F1': smvF1s}\n",
        "pd.DataFrame({'KNN' : pd.Series(d_KNN), 'Logictis Regression':pd.Series(d_Logictis), 'Decision Tree':pd.Series(d_DecisionTree), 'smv':pd.Series(d_svm)})"
      ],
      "metadata": {
        "colab": {
          "base_uri": "https://localhost:8080/",
          "height": 175
        },
        "id": "ePXsMOF7UsbS",
        "outputId": "b4c08a0c-7d35-4807-e6cf-80c4ec5d1ad1"
      },
      "execution_count": null,
      "outputs": [
        {
          "output_type": "execute_result",
          "data": {
            "text/plain": [
              "                KNN  Logictis Regression  Decision Tree       smv\n",
              "Accuracy   0.964912             0.953216       0.912281  0.959064\n",
              "Precision  0.965425             0.945608       0.901627  0.952597\n",
              "Recall     0.958995             0.956349       0.917328  0.960979\n",
              "F1         0.962045             0.950363       0.907724  0.956436"
            ],
            "text/html": [
              "\n",
              "  <div id=\"df-c322cf0f-bdc7-495f-a5d8-943188229321\">\n",
              "    <div class=\"colab-df-container\">\n",
              "      <div>\n",
              "<style scoped>\n",
              "    .dataframe tbody tr th:only-of-type {\n",
              "        vertical-align: middle;\n",
              "    }\n",
              "\n",
              "    .dataframe tbody tr th {\n",
              "        vertical-align: top;\n",
              "    }\n",
              "\n",
              "    .dataframe thead th {\n",
              "        text-align: right;\n",
              "    }\n",
              "</style>\n",
              "<table border=\"1\" class=\"dataframe\">\n",
              "  <thead>\n",
              "    <tr style=\"text-align: right;\">\n",
              "      <th></th>\n",
              "      <th>KNN</th>\n",
              "      <th>Logictis Regression</th>\n",
              "      <th>Decision Tree</th>\n",
              "      <th>smv</th>\n",
              "    </tr>\n",
              "  </thead>\n",
              "  <tbody>\n",
              "    <tr>\n",
              "      <th>Accuracy</th>\n",
              "      <td>0.964912</td>\n",
              "      <td>0.953216</td>\n",
              "      <td>0.912281</td>\n",
              "      <td>0.959064</td>\n",
              "    </tr>\n",
              "    <tr>\n",
              "      <th>Precision</th>\n",
              "      <td>0.965425</td>\n",
              "      <td>0.945608</td>\n",
              "      <td>0.901627</td>\n",
              "      <td>0.952597</td>\n",
              "    </tr>\n",
              "    <tr>\n",
              "      <th>Recall</th>\n",
              "      <td>0.958995</td>\n",
              "      <td>0.956349</td>\n",
              "      <td>0.917328</td>\n",
              "      <td>0.960979</td>\n",
              "    </tr>\n",
              "    <tr>\n",
              "      <th>F1</th>\n",
              "      <td>0.962045</td>\n",
              "      <td>0.950363</td>\n",
              "      <td>0.907724</td>\n",
              "      <td>0.956436</td>\n",
              "    </tr>\n",
              "  </tbody>\n",
              "</table>\n",
              "</div>\n",
              "      <button class=\"colab-df-convert\" onclick=\"convertToInteractive('df-c322cf0f-bdc7-495f-a5d8-943188229321')\"\n",
              "              title=\"Convert this dataframe to an interactive table.\"\n",
              "              style=\"display:none;\">\n",
              "        \n",
              "  <svg xmlns=\"http://www.w3.org/2000/svg\" height=\"24px\"viewBox=\"0 0 24 24\"\n",
              "       width=\"24px\">\n",
              "    <path d=\"M0 0h24v24H0V0z\" fill=\"none\"/>\n",
              "    <path d=\"M18.56 5.44l.94 2.06.94-2.06 2.06-.94-2.06-.94-.94-2.06-.94 2.06-2.06.94zm-11 1L8.5 8.5l.94-2.06 2.06-.94-2.06-.94L8.5 2.5l-.94 2.06-2.06.94zm10 10l.94 2.06.94-2.06 2.06-.94-2.06-.94-.94-2.06-.94 2.06-2.06.94z\"/><path d=\"M17.41 7.96l-1.37-1.37c-.4-.4-.92-.59-1.43-.59-.52 0-1.04.2-1.43.59L10.3 9.45l-7.72 7.72c-.78.78-.78 2.05 0 2.83L4 21.41c.39.39.9.59 1.41.59.51 0 1.02-.2 1.41-.59l7.78-7.78 2.81-2.81c.8-.78.8-2.07 0-2.86zM5.41 20L4 18.59l7.72-7.72 1.47 1.35L5.41 20z\"/>\n",
              "  </svg>\n",
              "      </button>\n",
              "      \n",
              "  <style>\n",
              "    .colab-df-container {\n",
              "      display:flex;\n",
              "      flex-wrap:wrap;\n",
              "      gap: 12px;\n",
              "    }\n",
              "\n",
              "    .colab-df-convert {\n",
              "      background-color: #E8F0FE;\n",
              "      border: none;\n",
              "      border-radius: 50%;\n",
              "      cursor: pointer;\n",
              "      display: none;\n",
              "      fill: #1967D2;\n",
              "      height: 32px;\n",
              "      padding: 0 0 0 0;\n",
              "      width: 32px;\n",
              "    }\n",
              "\n",
              "    .colab-df-convert:hover {\n",
              "      background-color: #E2EBFA;\n",
              "      box-shadow: 0px 1px 2px rgba(60, 64, 67, 0.3), 0px 1px 3px 1px rgba(60, 64, 67, 0.15);\n",
              "      fill: #174EA6;\n",
              "    }\n",
              "\n",
              "    [theme=dark] .colab-df-convert {\n",
              "      background-color: #3B4455;\n",
              "      fill: #D2E3FC;\n",
              "    }\n",
              "\n",
              "    [theme=dark] .colab-df-convert:hover {\n",
              "      background-color: #434B5C;\n",
              "      box-shadow: 0px 1px 3px 1px rgba(0, 0, 0, 0.15);\n",
              "      filter: drop-shadow(0px 1px 2px rgba(0, 0, 0, 0.3));\n",
              "      fill: #FFFFFF;\n",
              "    }\n",
              "  </style>\n",
              "\n",
              "      <script>\n",
              "        const buttonEl =\n",
              "          document.querySelector('#df-c322cf0f-bdc7-495f-a5d8-943188229321 button.colab-df-convert');\n",
              "        buttonEl.style.display =\n",
              "          google.colab.kernel.accessAllowed ? 'block' : 'none';\n",
              "\n",
              "        async function convertToInteractive(key) {\n",
              "          const element = document.querySelector('#df-c322cf0f-bdc7-495f-a5d8-943188229321');\n",
              "          const dataTable =\n",
              "            await google.colab.kernel.invokeFunction('convertToInteractive',\n",
              "                                                     [key], {});\n",
              "          if (!dataTable) return;\n",
              "\n",
              "          const docLinkHtml = 'Like what you see? Visit the ' +\n",
              "            '<a target=\"_blank\" href=https://colab.research.google.com/notebooks/data_table.ipynb>data table notebook</a>'\n",
              "            + ' to learn more about interactive tables.';\n",
              "          element.innerHTML = '';\n",
              "          dataTable['output_type'] = 'display_data';\n",
              "          await google.colab.output.renderOutput(dataTable, element);\n",
              "          const docLink = document.createElement('div');\n",
              "          docLink.innerHTML = docLinkHtml;\n",
              "          element.appendChild(docLink);\n",
              "        }\n",
              "      </script>\n",
              "    </div>\n",
              "  </div>\n",
              "  "
            ]
          },
          "metadata": {},
          "execution_count": 23
        }
      ]
    },
    {
      "cell_type": "markdown",
      "source": [
        "#Task 2. \n",
        "\n",
        "*   1.1.\tPerform SVM algorithm to **Iris dataset** using **linear kernel**.\n",
        "*   1.2.\tCompare the obtained results in 1.1 with SVM using other kernels (**Polynomial Kernel, Gaussian Kernel, Sigmoid Kernel, Radial Basis Function Kernel**). Some metrics could be used: accuracy, precision, recall, f1 measures\n",
        "\n",
        "\n",
        "\n"
      ],
      "metadata": {
        "id": "S43IoUT-0OQq"
      }
    },
    {
      "cell_type": "code",
      "source": [
        "# code\n",
        "data =  datasets.load_iris()\n",
        "X= data.data\n",
        "y = data.target\n",
        "\n",
        "X_train,X_test,y_train,y_test= train_test_split(X, y, test_size=0.3,random_state=1)\n",
        "clf = svm.SVC(kernel='linear') # Linear Kernel\n",
        "clf.fit(X_train, y_train)\n",
        "y_pred = clf.predict(X_test)\n",
        "smvAccs = metrics.accuracy_score(y_test, y_pred);\n",
        "smvPrecss = metrics.precision_score(y_test, y_pred,average='macro');\n",
        "smvRecalls = metrics.recall_score(y_test, y_pred,average='macro');\n",
        "smvF1s = metrics.f1_score(y_test, y_pred,average='macro');\n",
        "print(metrics.classification_report(y_test, y_pred))"
      ],
      "metadata": {
        "id": "_xhPpF5b033h",
        "colab": {
          "base_uri": "https://localhost:8080/"
        },
        "outputId": "81a814d9-6ff5-4aa7-e6a1-6f5600b3f9a9"
      },
      "execution_count": 2,
      "outputs": [
        {
          "output_type": "stream",
          "name": "stdout",
          "text": [
            "              precision    recall  f1-score   support\n",
            "\n",
            "           0       1.00      1.00      1.00        14\n",
            "           1       1.00      1.00      1.00        18\n",
            "           2       1.00      1.00      1.00        13\n",
            "\n",
            "    accuracy                           1.00        45\n",
            "   macro avg       1.00      1.00      1.00        45\n",
            "weighted avg       1.00      1.00      1.00        45\n",
            "\n"
          ]
        }
      ]
    },
    {
      "cell_type": "code",
      "source": [
        "clf = svm.SVC(kernel='poly') # Linear Kernel\n",
        "clf.fit(X_train, y_train)\n",
        "y_pred = clf.predict(X_test)\n",
        "smvAccs_poly = metrics.accuracy_score(y_test, y_pred);\n",
        "smvPrecss_poly = metrics.precision_score(y_test, y_pred,average='macro');\n",
        "smvRecalls_poly = metrics.recall_score(y_test, y_pred,average='macro');\n",
        "smvF1s_poly = metrics.f1_score(y_test, y_pred,average='macro');\n",
        "print(metrics.classification_report(y_test, y_pred))"
      ],
      "metadata": {
        "id": "68_Uo3rNYe27",
        "colab": {
          "base_uri": "https://localhost:8080/"
        },
        "outputId": "3a6ab2be-ea4d-4b39-bf95-2dd82ac5d228"
      },
      "execution_count": 4,
      "outputs": [
        {
          "output_type": "stream",
          "name": "stdout",
          "text": [
            "              precision    recall  f1-score   support\n",
            "\n",
            "           0       1.00      1.00      1.00        14\n",
            "           1       1.00      0.94      0.97        18\n",
            "           2       0.93      1.00      0.96        13\n",
            "\n",
            "    accuracy                           0.98        45\n",
            "   macro avg       0.98      0.98      0.98        45\n",
            "weighted avg       0.98      0.98      0.98        45\n",
            "\n"
          ]
        }
      ]
    },
    {
      "cell_type": "code",
      "source": [
        "clf = svm.SVC(kernel='rbf') # Linear Kernel\n",
        "clf.fit(X_train, y_train)\n",
        "y_pred = clf.predict(X_test)\n",
        "smvAccs_rbf = metrics.accuracy_score(y_test, y_pred);\n",
        "smvPrecss_rbf = metrics.precision_score(y_test, y_pred,average='macro');\n",
        "smvRecalls_rbf = metrics.recall_score(y_test, y_pred,average='macro');\n",
        "smvF1s_rbf = metrics.f1_score(y_test, y_pred,average='macro');"
      ],
      "metadata": {
        "id": "Ae5Pw19aYe_J"
      },
      "execution_count": null,
      "outputs": []
    },
    {
      "cell_type": "code",
      "source": [
        "clf = svm.SVC(kernel='sigmoid') # Linear Kernel\n",
        "clf.fit(X_train, y_train)\n",
        "y_pred = clf.predict(X_test)\n",
        "smvAccs_sg = metrics.accuracy_score(y_test, y_pred);\n",
        "smvPrecss_sg = metrics.precision_score(y_test, y_pred,average='macro');\n",
        "smvRecalls_sg = metrics.recall_score(y_test, y_pred,average='macro');\n",
        "smvF1s_sg = metrics.f1_score(y_test, y_pred,average='macro');"
      ],
      "metadata": {
        "colab": {
          "base_uri": "https://localhost:8080/"
        },
        "id": "NzsR_m-WYfH5",
        "outputId": "209329e7-6c32-4fb8-935d-7a8dba488e07"
      },
      "execution_count": null,
      "outputs": [
        {
          "output_type": "stream",
          "name": "stderr",
          "text": [
            "/usr/local/lib/python3.9/dist-packages/sklearn/metrics/_classification.py:1344: UndefinedMetricWarning: Precision is ill-defined and being set to 0.0 in labels with no predicted samples. Use `zero_division` parameter to control this behavior.\n",
            "  _warn_prf(average, modifier, msg_start, len(result))\n"
          ]
        }
      ]
    },
    {
      "cell_type": "code",
      "source": [
        "d_svm =  {'Accuracy': smvAccs, 'Precision': smvPrecss, 'Recall': smvRecalls, 'F1': smvF1s}\n",
        "d_svm_rbf =  {'Accuracy': smvAccs_rbf, 'Precision': smvPrecss_rbf, 'Recall': smvRecalls_rbf, 'F1': smvF1s_rbf}\n",
        "d_svm_sg =  {'Accuracy': smvAccs_sg, 'Precision': smvPrecss_sg, 'Recall': smvRecalls_sg, 'F1': smvF1s_sg}\n",
        "d_svm_poly =  {'Accuracy': smvAccs_poly, 'Precision': smvPrecss_poly, 'Recall': smvRecalls_poly, 'F1': smvF1s_poly}\n",
        "pd.DataFrame({'Linear' : pd.Series(d_svm), 'Radial Basis':pd.Series(d_svm_rbf), 'Sigmoid':pd.Series(d_svm_sg), 'Polynomial':pd.Series(d_svm_poly)})"
      ],
      "metadata": {
        "colab": {
          "base_uri": "https://localhost:8080/",
          "height": 175
        },
        "id": "gdBAgQNLZUWb",
        "outputId": "afc7cb4b-a4ab-477b-df9c-7d99504829c0"
      },
      "execution_count": null,
      "outputs": [
        {
          "output_type": "execute_result",
          "data": {
            "text/plain": [
              "           Linear  Radial Basis   Sigmoid  Polynomial\n",
              "Accuracy      1.0      0.977778  0.288889    0.977778\n",
              "Precision     1.0      0.976190  0.096296    0.976190\n",
              "Recall        1.0      0.981481  0.333333    0.981481\n",
              "F1            1.0      0.978131  0.149425    0.978131"
            ],
            "text/html": [
              "\n",
              "  <div id=\"df-479e5853-185e-4ae7-92d8-e1d7a50e2355\">\n",
              "    <div class=\"colab-df-container\">\n",
              "      <div>\n",
              "<style scoped>\n",
              "    .dataframe tbody tr th:only-of-type {\n",
              "        vertical-align: middle;\n",
              "    }\n",
              "\n",
              "    .dataframe tbody tr th {\n",
              "        vertical-align: top;\n",
              "    }\n",
              "\n",
              "    .dataframe thead th {\n",
              "        text-align: right;\n",
              "    }\n",
              "</style>\n",
              "<table border=\"1\" class=\"dataframe\">\n",
              "  <thead>\n",
              "    <tr style=\"text-align: right;\">\n",
              "      <th></th>\n",
              "      <th>Linear</th>\n",
              "      <th>Radial Basis</th>\n",
              "      <th>Sigmoid</th>\n",
              "      <th>Polynomial</th>\n",
              "    </tr>\n",
              "  </thead>\n",
              "  <tbody>\n",
              "    <tr>\n",
              "      <th>Accuracy</th>\n",
              "      <td>1.0</td>\n",
              "      <td>0.977778</td>\n",
              "      <td>0.288889</td>\n",
              "      <td>0.977778</td>\n",
              "    </tr>\n",
              "    <tr>\n",
              "      <th>Precision</th>\n",
              "      <td>1.0</td>\n",
              "      <td>0.976190</td>\n",
              "      <td>0.096296</td>\n",
              "      <td>0.976190</td>\n",
              "    </tr>\n",
              "    <tr>\n",
              "      <th>Recall</th>\n",
              "      <td>1.0</td>\n",
              "      <td>0.981481</td>\n",
              "      <td>0.333333</td>\n",
              "      <td>0.981481</td>\n",
              "    </tr>\n",
              "    <tr>\n",
              "      <th>F1</th>\n",
              "      <td>1.0</td>\n",
              "      <td>0.978131</td>\n",
              "      <td>0.149425</td>\n",
              "      <td>0.978131</td>\n",
              "    </tr>\n",
              "  </tbody>\n",
              "</table>\n",
              "</div>\n",
              "      <button class=\"colab-df-convert\" onclick=\"convertToInteractive('df-479e5853-185e-4ae7-92d8-e1d7a50e2355')\"\n",
              "              title=\"Convert this dataframe to an interactive table.\"\n",
              "              style=\"display:none;\">\n",
              "        \n",
              "  <svg xmlns=\"http://www.w3.org/2000/svg\" height=\"24px\"viewBox=\"0 0 24 24\"\n",
              "       width=\"24px\">\n",
              "    <path d=\"M0 0h24v24H0V0z\" fill=\"none\"/>\n",
              "    <path d=\"M18.56 5.44l.94 2.06.94-2.06 2.06-.94-2.06-.94-.94-2.06-.94 2.06-2.06.94zm-11 1L8.5 8.5l.94-2.06 2.06-.94-2.06-.94L8.5 2.5l-.94 2.06-2.06.94zm10 10l.94 2.06.94-2.06 2.06-.94-2.06-.94-.94-2.06-.94 2.06-2.06.94z\"/><path d=\"M17.41 7.96l-1.37-1.37c-.4-.4-.92-.59-1.43-.59-.52 0-1.04.2-1.43.59L10.3 9.45l-7.72 7.72c-.78.78-.78 2.05 0 2.83L4 21.41c.39.39.9.59 1.41.59.51 0 1.02-.2 1.41-.59l7.78-7.78 2.81-2.81c.8-.78.8-2.07 0-2.86zM5.41 20L4 18.59l7.72-7.72 1.47 1.35L5.41 20z\"/>\n",
              "  </svg>\n",
              "      </button>\n",
              "      \n",
              "  <style>\n",
              "    .colab-df-container {\n",
              "      display:flex;\n",
              "      flex-wrap:wrap;\n",
              "      gap: 12px;\n",
              "    }\n",
              "\n",
              "    .colab-df-convert {\n",
              "      background-color: #E8F0FE;\n",
              "      border: none;\n",
              "      border-radius: 50%;\n",
              "      cursor: pointer;\n",
              "      display: none;\n",
              "      fill: #1967D2;\n",
              "      height: 32px;\n",
              "      padding: 0 0 0 0;\n",
              "      width: 32px;\n",
              "    }\n",
              "\n",
              "    .colab-df-convert:hover {\n",
              "      background-color: #E2EBFA;\n",
              "      box-shadow: 0px 1px 2px rgba(60, 64, 67, 0.3), 0px 1px 3px 1px rgba(60, 64, 67, 0.15);\n",
              "      fill: #174EA6;\n",
              "    }\n",
              "\n",
              "    [theme=dark] .colab-df-convert {\n",
              "      background-color: #3B4455;\n",
              "      fill: #D2E3FC;\n",
              "    }\n",
              "\n",
              "    [theme=dark] .colab-df-convert:hover {\n",
              "      background-color: #434B5C;\n",
              "      box-shadow: 0px 1px 3px 1px rgba(0, 0, 0, 0.15);\n",
              "      filter: drop-shadow(0px 1px 2px rgba(0, 0, 0, 0.3));\n",
              "      fill: #FFFFFF;\n",
              "    }\n",
              "  </style>\n",
              "\n",
              "      <script>\n",
              "        const buttonEl =\n",
              "          document.querySelector('#df-479e5853-185e-4ae7-92d8-e1d7a50e2355 button.colab-df-convert');\n",
              "        buttonEl.style.display =\n",
              "          google.colab.kernel.accessAllowed ? 'block' : 'none';\n",
              "\n",
              "        async function convertToInteractive(key) {\n",
              "          const element = document.querySelector('#df-479e5853-185e-4ae7-92d8-e1d7a50e2355');\n",
              "          const dataTable =\n",
              "            await google.colab.kernel.invokeFunction('convertToInteractive',\n",
              "                                                     [key], {});\n",
              "          if (!dataTable) return;\n",
              "\n",
              "          const docLinkHtml = 'Like what you see? Visit the ' +\n",
              "            '<a target=\"_blank\" href=https://colab.research.google.com/notebooks/data_table.ipynb>data table notebook</a>'\n",
              "            + ' to learn more about interactive tables.';\n",
              "          element.innerHTML = '';\n",
              "          dataTable['output_type'] = 'display_data';\n",
              "          await google.colab.output.renderOutput(dataTable, element);\n",
              "          const docLink = document.createElement('div');\n",
              "          docLink.innerHTML = docLinkHtml;\n",
              "          element.appendChild(docLink);\n",
              "        }\n",
              "      </script>\n",
              "    </div>\n",
              "  </div>\n",
              "  "
            ]
          },
          "metadata": {},
          "execution_count": 29
        }
      ]
    },
    {
      "cell_type": "markdown",
      "source": [
        "#Task 3. \n",
        "Compare the performance of selected classification algorithms (Decision Tree, kNN, Logistic Regression) and SVM (using different kernels) with mnist dataset based on accuracy, precision, recall, f1 measures.\n"
      ],
      "metadata": {
        "id": "b52OPWPD2afi"
      }
    },
    {
      "cell_type": "code",
      "source": [
        "mnist = datasets.load_digits()\n",
        "X= mnist.data\n",
        "y = mnist.target\n",
        "X_train,X_test,y_train,y_test= train_test_split(X, y, test_size=0.3,random_state=1)\n",
        "#smv\n",
        "clf = svm.SVC(kernel='linear') \n",
        "clf.fit(X_train, y_train)\n",
        "y_pred = clf.predict(X_test)\n",
        "smvAccs = metrics.accuracy_score(y_test, y_pred);\n",
        "smvPrecss = metrics.precision_score(y_test, y_pred,average='macro');\n",
        "smvRecalls = metrics.recall_score(y_test, y_pred,average='macro');\n",
        "smvF1s = metrics.f1_score(y_test, y_pred,average='macro');\n",
        "# print(metrics.classification_report(y_test, y_pred))\n",
        "\n",
        "# Poly Kernel\n",
        "clf = svm.SVC(kernel='poly') \n",
        "clf.fit(X_train, y_train)\n",
        "y_pred = clf.predict(X_test)\n",
        "smvAccs_poly = metrics.accuracy_score(y_test, y_pred);\n",
        "smvPrecss_poly = metrics.precision_score(y_test, y_pred,average='macro');\n",
        "smvRecalls_poly = metrics.recall_score(y_test, y_pred,average='macro');\n",
        "smvF1s_poly = metrics.f1_score(y_test, y_pred,average='macro');\n",
        "# print(metrics.classification_report(y_test, y_pred))\n",
        "# RBF Kernel\n",
        "clf = svm.SVC(kernel='rbf') \n",
        "clf.fit(X_train, y_train)\n",
        "y_pred = clf.predict(X_test)\n",
        "smvAccs_rbf = metrics.accuracy_score(y_test, y_pred);\n",
        "smvPrecss_rbf = metrics.precision_score(y_test, y_pred,average='macro');\n",
        "smvRecalls_rbf = metrics.recall_score(y_test, y_pred,average='macro');\n",
        "smvF1s_rbf = metrics.f1_score(y_test, y_pred,average='macro');\n",
        "# Sigmoid Kernel\n",
        "clf = svm.SVC(kernel='sigmoid') \n",
        "clf.fit(X_train, y_train)\n",
        "y_pred = clf.predict(X_test)\n",
        "smvAccs_sg = metrics.accuracy_score(y_test, y_pred);\n",
        "smvPrecss_sg = metrics.precision_score(y_test, y_pred,average='macro');\n",
        "smvRecalls_sg = metrics.recall_score(y_test, y_pred,average='macro');\n",
        "smvF1s_sg = metrics.f1_score(y_test, y_pred,average='macro');\n",
        "#LogisticRegression\n",
        "classifier = LogisticRegression(random_state = 0)\n",
        "classifier.fit(X_train, y_train)\n",
        "y_pred = classifier.predict(X_test)\n",
        "lrAccs = metrics.accuracy_score(y_test, y_pred);\n",
        "lrPrecss = metrics.precision_score(y_test, y_pred,average='macro');\n",
        "lrRecalls = metrics.recall_score(y_test, y_pred,average='macro');\n",
        "lrF1s = metrics.f1_score(y_test, y_pred,average='macro');\n",
        "# print(metrics.classification_report(y_test, y_pred))\n",
        "#KNeighborsClassifier\n",
        "k = range(1,30,2);\n",
        "acccs = [];\n",
        "precss = [];\n",
        "recalls = [];\n",
        "f1s = [];\n",
        "for i in k:\n",
        "  knm = KNeighborsClassifier(n_neighbors=i)\n",
        "  knm.fit(X_train, y_train)\n",
        "  y_pred = knm.predict(X_test)\n",
        "  acccs.append(metrics.accuracy_score(y_test, y_pred))\n",
        "  precss.append(metrics.precision_score(y_test, y_pred,average='macro'))\n",
        "  recalls.append(metrics.recall_score(y_test, y_pred,average='macro'))\n",
        "  f1s.append(metrics.f1_score(y_test, y_pred,average='macro'))\n",
        "  \n",
        "# print(metrics.classification_report(y_test, y_pred))\n",
        "#DecisionTreeClassifier\n",
        "clf = DecisionTreeClassifier(random_state=0)\n",
        "clf.fit(X_train, y_train)\n",
        "y_pred = clf.predict(X_test)\n",
        "dtAccs = metrics.accuracy_score(y_test, y_pred);\n",
        "dtPrecss = metrics.precision_score(y_test, y_pred,average='macro');\n",
        "dtRecalls = metrics.recall_score(y_test, y_pred,average='macro');\n",
        "dtF1s = metrics.f1_score(y_test, y_pred,average='macro');\n",
        "# print(metrics.classification_report(y_test, y_pred))\n",
        "d_KNN = {'Accuracy':max(acccs), 'Precision':max(precss), 'Recall':max(recalls), 'F1': max(f1s)}\n",
        "d_Logictis =  {'Accuracy': lrAccs, 'Precision': lrPrecss, 'Recall': lrRecalls, 'F1': lrF1s}\n",
        "d_DecisionTree =  {'Accuracy': dtAccs, 'Precision': dtPrecss, 'Recall': dtRecalls, 'F1': dtF1s}\n",
        "d_svm =  {'Accuracy': smvAccs, 'Precision': smvPrecss, 'Recall': smvRecalls, 'F1': smvF1s}\n",
        "d_svm_rbf =  {'Accuracy': smvAccs_rbf, 'Precision': smvPrecss_rbf, 'Recall': smvRecalls_rbf, 'F1': smvF1s_rbf}\n",
        "d_svm_sg =  {'Accuracy': smvAccs_sg, 'Precision': smvPrecss_sg, 'Recall': smvRecalls_sg, 'F1': smvF1s_sg}\n",
        "d_svm_poly =  {'Accuracy': smvAccs_poly, 'Precision': smvPrecss_poly, 'Recall': smvRecalls_poly, 'F1': smvF1s_poly}\n",
        "pd.DataFrame({'KNN' : pd.Series(d_KNN), 'Logictis Regression':pd.Series(d_Logictis), 'Decision Tree':pd.Series(d_DecisionTree), 'smv':pd.Series(d_svm),'Radial Basis':pd.Series(d_svm_rbf), 'Sigmoid':pd.Series(d_svm_sg), 'Polynomial':pd.Series(d_svm_poly)})\n"
      ],
      "metadata": {
        "id": "xK0l93NxaYHC",
        "colab": {
          "base_uri": "https://localhost:8080/",
          "height": 314
        },
        "outputId": "a90fd07a-910a-43c5-e0b2-e8d0e02124f9"
      },
      "execution_count": 7,
      "outputs": [
        {
          "output_type": "stream",
          "name": "stderr",
          "text": [
            "/usr/local/lib/python3.9/dist-packages/sklearn/linear_model/_logistic.py:458: ConvergenceWarning: lbfgs failed to converge (status=1):\n",
            "STOP: TOTAL NO. of ITERATIONS REACHED LIMIT.\n",
            "\n",
            "Increase the number of iterations (max_iter) or scale the data as shown in:\n",
            "    https://scikit-learn.org/stable/modules/preprocessing.html\n",
            "Please also refer to the documentation for alternative solver options:\n",
            "    https://scikit-learn.org/stable/modules/linear_model.html#logistic-regression\n",
            "  n_iter_i = _check_optimize_result(\n"
          ]
        },
        {
          "output_type": "execute_result",
          "data": {
            "text/plain": [
              "                KNN  Logictis Regression  Decision Tree       smv  \\\n",
              "Accuracy   0.990741             0.968519       0.859259  0.981481   \n",
              "Precision  0.991622             0.967766       0.862873  0.980930   \n",
              "Recall     0.990208             0.968248       0.862809  0.981131   \n",
              "F1         0.990817             0.967788       0.860622  0.980977   \n",
              "\n",
              "           Radial Basis   Sigmoid  Polynomial  \n",
              "Accuracy       0.985185  0.905556    0.985185  \n",
              "Precision      0.985048  0.905594    0.985048  \n",
              "Recall         0.985004  0.903793    0.985004  \n",
              "F1             0.984912  0.903620    0.984912  "
            ],
            "text/html": [
              "\n",
              "  <div id=\"df-e1da1503-7397-487b-a061-284738c22c4d\">\n",
              "    <div class=\"colab-df-container\">\n",
              "      <div>\n",
              "<style scoped>\n",
              "    .dataframe tbody tr th:only-of-type {\n",
              "        vertical-align: middle;\n",
              "    }\n",
              "\n",
              "    .dataframe tbody tr th {\n",
              "        vertical-align: top;\n",
              "    }\n",
              "\n",
              "    .dataframe thead th {\n",
              "        text-align: right;\n",
              "    }\n",
              "</style>\n",
              "<table border=\"1\" class=\"dataframe\">\n",
              "  <thead>\n",
              "    <tr style=\"text-align: right;\">\n",
              "      <th></th>\n",
              "      <th>KNN</th>\n",
              "      <th>Logictis Regression</th>\n",
              "      <th>Decision Tree</th>\n",
              "      <th>smv</th>\n",
              "      <th>Radial Basis</th>\n",
              "      <th>Sigmoid</th>\n",
              "      <th>Polynomial</th>\n",
              "    </tr>\n",
              "  </thead>\n",
              "  <tbody>\n",
              "    <tr>\n",
              "      <th>Accuracy</th>\n",
              "      <td>0.990741</td>\n",
              "      <td>0.968519</td>\n",
              "      <td>0.859259</td>\n",
              "      <td>0.981481</td>\n",
              "      <td>0.985185</td>\n",
              "      <td>0.905556</td>\n",
              "      <td>0.985185</td>\n",
              "    </tr>\n",
              "    <tr>\n",
              "      <th>Precision</th>\n",
              "      <td>0.991622</td>\n",
              "      <td>0.967766</td>\n",
              "      <td>0.862873</td>\n",
              "      <td>0.980930</td>\n",
              "      <td>0.985048</td>\n",
              "      <td>0.905594</td>\n",
              "      <td>0.985048</td>\n",
              "    </tr>\n",
              "    <tr>\n",
              "      <th>Recall</th>\n",
              "      <td>0.990208</td>\n",
              "      <td>0.968248</td>\n",
              "      <td>0.862809</td>\n",
              "      <td>0.981131</td>\n",
              "      <td>0.985004</td>\n",
              "      <td>0.903793</td>\n",
              "      <td>0.985004</td>\n",
              "    </tr>\n",
              "    <tr>\n",
              "      <th>F1</th>\n",
              "      <td>0.990817</td>\n",
              "      <td>0.967788</td>\n",
              "      <td>0.860622</td>\n",
              "      <td>0.980977</td>\n",
              "      <td>0.984912</td>\n",
              "      <td>0.903620</td>\n",
              "      <td>0.984912</td>\n",
              "    </tr>\n",
              "  </tbody>\n",
              "</table>\n",
              "</div>\n",
              "      <button class=\"colab-df-convert\" onclick=\"convertToInteractive('df-e1da1503-7397-487b-a061-284738c22c4d')\"\n",
              "              title=\"Convert this dataframe to an interactive table.\"\n",
              "              style=\"display:none;\">\n",
              "        \n",
              "  <svg xmlns=\"http://www.w3.org/2000/svg\" height=\"24px\"viewBox=\"0 0 24 24\"\n",
              "       width=\"24px\">\n",
              "    <path d=\"M0 0h24v24H0V0z\" fill=\"none\"/>\n",
              "    <path d=\"M18.56 5.44l.94 2.06.94-2.06 2.06-.94-2.06-.94-.94-2.06-.94 2.06-2.06.94zm-11 1L8.5 8.5l.94-2.06 2.06-.94-2.06-.94L8.5 2.5l-.94 2.06-2.06.94zm10 10l.94 2.06.94-2.06 2.06-.94-2.06-.94-.94-2.06-.94 2.06-2.06.94z\"/><path d=\"M17.41 7.96l-1.37-1.37c-.4-.4-.92-.59-1.43-.59-.52 0-1.04.2-1.43.59L10.3 9.45l-7.72 7.72c-.78.78-.78 2.05 0 2.83L4 21.41c.39.39.9.59 1.41.59.51 0 1.02-.2 1.41-.59l7.78-7.78 2.81-2.81c.8-.78.8-2.07 0-2.86zM5.41 20L4 18.59l7.72-7.72 1.47 1.35L5.41 20z\"/>\n",
              "  </svg>\n",
              "      </button>\n",
              "      \n",
              "  <style>\n",
              "    .colab-df-container {\n",
              "      display:flex;\n",
              "      flex-wrap:wrap;\n",
              "      gap: 12px;\n",
              "    }\n",
              "\n",
              "    .colab-df-convert {\n",
              "      background-color: #E8F0FE;\n",
              "      border: none;\n",
              "      border-radius: 50%;\n",
              "      cursor: pointer;\n",
              "      display: none;\n",
              "      fill: #1967D2;\n",
              "      height: 32px;\n",
              "      padding: 0 0 0 0;\n",
              "      width: 32px;\n",
              "    }\n",
              "\n",
              "    .colab-df-convert:hover {\n",
              "      background-color: #E2EBFA;\n",
              "      box-shadow: 0px 1px 2px rgba(60, 64, 67, 0.3), 0px 1px 3px 1px rgba(60, 64, 67, 0.15);\n",
              "      fill: #174EA6;\n",
              "    }\n",
              "\n",
              "    [theme=dark] .colab-df-convert {\n",
              "      background-color: #3B4455;\n",
              "      fill: #D2E3FC;\n",
              "    }\n",
              "\n",
              "    [theme=dark] .colab-df-convert:hover {\n",
              "      background-color: #434B5C;\n",
              "      box-shadow: 0px 1px 3px 1px rgba(0, 0, 0, 0.15);\n",
              "      filter: drop-shadow(0px 1px 2px rgba(0, 0, 0, 0.3));\n",
              "      fill: #FFFFFF;\n",
              "    }\n",
              "  </style>\n",
              "\n",
              "      <script>\n",
              "        const buttonEl =\n",
              "          document.querySelector('#df-e1da1503-7397-487b-a061-284738c22c4d button.colab-df-convert');\n",
              "        buttonEl.style.display =\n",
              "          google.colab.kernel.accessAllowed ? 'block' : 'none';\n",
              "\n",
              "        async function convertToInteractive(key) {\n",
              "          const element = document.querySelector('#df-e1da1503-7397-487b-a061-284738c22c4d');\n",
              "          const dataTable =\n",
              "            await google.colab.kernel.invokeFunction('convertToInteractive',\n",
              "                                                     [key], {});\n",
              "          if (!dataTable) return;\n",
              "\n",
              "          const docLinkHtml = 'Like what you see? Visit the ' +\n",
              "            '<a target=\"_blank\" href=https://colab.research.google.com/notebooks/data_table.ipynb>data table notebook</a>'\n",
              "            + ' to learn more about interactive tables.';\n",
              "          element.innerHTML = '';\n",
              "          dataTable['output_type'] = 'display_data';\n",
              "          await google.colab.output.renderOutput(dataTable, element);\n",
              "          const docLink = document.createElement('div');\n",
              "          docLink.innerHTML = docLinkHtml;\n",
              "          element.appendChild(docLink);\n",
              "        }\n",
              "      </script>\n",
              "    </div>\n",
              "  </div>\n",
              "  "
            ]
          },
          "metadata": {},
          "execution_count": 7
        }
      ]
    },
    {
      "cell_type": "code",
      "source": [],
      "metadata": {
        "id": "IYbZM3QCcNmr"
      },
      "execution_count": null,
      "outputs": []
    },
    {
      "cell_type": "code",
      "source": [],
      "metadata": {
        "id": "KyBpmw06cN0J"
      },
      "execution_count": null,
      "outputs": []
    },
    {
      "cell_type": "code",
      "source": [],
      "metadata": {
        "id": "Hn9fXKUKc8ET"
      },
      "execution_count": null,
      "outputs": []
    },
    {
      "cell_type": "markdown",
      "source": [
        "#Task 4. \n",
        "Compare the performance of selected classification algorithms (Decision Tree, kNN, Logistic Regression) and SVM (using different kernels) with **credit card dataset** based on accuracy, precision, recall, f1 measures.\n",
        "\n",
        "*   Give some comments on the obtained results\n",
        "*   Identify issues with dataset, and propose the solutions to these issues\n",
        "\n"
      ],
      "metadata": {
        "id": "Z5pp7_h-aP2u"
      }
    },
    {
      "cell_type": "code",
      "source": [
        "# code\n",
        "#trantest , trainsize = 0.3 , testSize = 0.1\n",
        "#shuffer = true"
      ],
      "metadata": {
        "id": "Rw_-8FIf2KxW"
      },
      "execution_count": null,
      "outputs": []
    },
    {
      "cell_type": "markdown",
      "source": [
        "#Finally,\n",
        "Save a copy in your Github. Remember renaming the notebook."
      ],
      "metadata": {
        "id": "Ok7RGkea_b7n"
      }
    }
  ]
}